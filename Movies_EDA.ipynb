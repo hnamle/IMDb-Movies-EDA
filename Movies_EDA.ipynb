{
  "nbformat": 4,
  "nbformat_minor": 0,
  "metadata": {
    "colab": {
      "name": "Movies EDA.ipynb",
      "provenance": [],
      "collapsed_sections": []
    },
    "kernelspec": {
      "name": "python3",
      "display_name": "Python 3"
    },
    "language_info": {
      "name": "python"
    }
  },
  "cells": [
    {
      "cell_type": "code",
      "execution_count": 1,
      "metadata": {
        "id": "UJno8AHGqnEu"
      },
      "outputs": [],
      "source": [
        "import numpy as np\n",
        "import pandas as pd\n",
        "import matplotlib.pyplot as plt\n",
        "plt.style.use('ggplot')\n",
        "import matplotlib\n",
        "from matplotlib.pyplot import figure\n",
        "import seaborn as sns\n",
        "\n",
        "%matplotlib inline\n",
        "matplotlib.rcParams['figure.figsize'] = (12,8)"
      ]
    },
    {
      "cell_type": "code",
      "source": [
        "filepath = \"/content/drive/MyDrive/Educayshion/Colabs/Projects/IMDb Movies/movies.csv\"\n",
        "movies = pd.read_csv(filepath)"
      ],
      "metadata": {
        "id": "XN4NFa3NrUXc"
      },
      "execution_count": 2,
      "outputs": []
    },
    {
      "cell_type": "code",
      "source": [
        "movies.head()"
      ],
      "metadata": {
        "colab": {
          "base_uri": "https://localhost:8080/",
          "height": 510
        },
        "id": "iq7QMVisrqfC",
        "outputId": "84ee0431-866b-4bba-a8e2-a0b59853a8ed"
      },
      "execution_count": 3,
      "outputs": [
        {
          "output_type": "execute_result",
          "data": {
            "text/plain": [
              "                                             name rating      genre  year  \\\n",
              "0                                     The Shining      R      Drama  1980   \n",
              "1                                 The Blue Lagoon      R  Adventure  1980   \n",
              "2  Star Wars: Episode V - The Empire Strikes Back     PG     Action  1980   \n",
              "3                                       Airplane!     PG     Comedy  1980   \n",
              "4                                      Caddyshack      R     Comedy  1980   \n",
              "\n",
              "                        released  score      votes         director  \\\n",
              "0  June 13, 1980 (United States)    8.4   927000.0  Stanley Kubrick   \n",
              "1   July 2, 1980 (United States)    5.8    65000.0   Randal Kleiser   \n",
              "2  June 20, 1980 (United States)    8.7  1200000.0   Irvin Kershner   \n",
              "3   July 2, 1980 (United States)    7.7   221000.0     Jim Abrahams   \n",
              "4  July 25, 1980 (United States)    7.3   108000.0     Harold Ramis   \n",
              "\n",
              "                    writer            star         country      budget  \\\n",
              "0             Stephen King  Jack Nicholson  United Kingdom  19000000.0   \n",
              "1  Henry De Vere Stacpoole  Brooke Shields   United States   4500000.0   \n",
              "2           Leigh Brackett     Mark Hamill   United States  18000000.0   \n",
              "3             Jim Abrahams     Robert Hays   United States   3500000.0   \n",
              "4       Brian Doyle-Murray     Chevy Chase   United States   6000000.0   \n",
              "\n",
              "         gross             company  runtime  \n",
              "0   46998772.0        Warner Bros.    146.0  \n",
              "1   58853106.0   Columbia Pictures    104.0  \n",
              "2  538375067.0           Lucasfilm    124.0  \n",
              "3   83453539.0  Paramount Pictures     88.0  \n",
              "4   39846344.0      Orion Pictures     98.0  "
            ],
            "text/html": [
              "\n",
              "  <div id=\"df-8de19938-71a6-47a2-b050-9c8a800d6e65\">\n",
              "    <div class=\"colab-df-container\">\n",
              "      <div>\n",
              "<style scoped>\n",
              "    .dataframe tbody tr th:only-of-type {\n",
              "        vertical-align: middle;\n",
              "    }\n",
              "\n",
              "    .dataframe tbody tr th {\n",
              "        vertical-align: top;\n",
              "    }\n",
              "\n",
              "    .dataframe thead th {\n",
              "        text-align: right;\n",
              "    }\n",
              "</style>\n",
              "<table border=\"1\" class=\"dataframe\">\n",
              "  <thead>\n",
              "    <tr style=\"text-align: right;\">\n",
              "      <th></th>\n",
              "      <th>name</th>\n",
              "      <th>rating</th>\n",
              "      <th>genre</th>\n",
              "      <th>year</th>\n",
              "      <th>released</th>\n",
              "      <th>score</th>\n",
              "      <th>votes</th>\n",
              "      <th>director</th>\n",
              "      <th>writer</th>\n",
              "      <th>star</th>\n",
              "      <th>country</th>\n",
              "      <th>budget</th>\n",
              "      <th>gross</th>\n",
              "      <th>company</th>\n",
              "      <th>runtime</th>\n",
              "    </tr>\n",
              "  </thead>\n",
              "  <tbody>\n",
              "    <tr>\n",
              "      <th>0</th>\n",
              "      <td>The Shining</td>\n",
              "      <td>R</td>\n",
              "      <td>Drama</td>\n",
              "      <td>1980</td>\n",
              "      <td>June 13, 1980 (United States)</td>\n",
              "      <td>8.4</td>\n",
              "      <td>927000.0</td>\n",
              "      <td>Stanley Kubrick</td>\n",
              "      <td>Stephen King</td>\n",
              "      <td>Jack Nicholson</td>\n",
              "      <td>United Kingdom</td>\n",
              "      <td>19000000.0</td>\n",
              "      <td>46998772.0</td>\n",
              "      <td>Warner Bros.</td>\n",
              "      <td>146.0</td>\n",
              "    </tr>\n",
              "    <tr>\n",
              "      <th>1</th>\n",
              "      <td>The Blue Lagoon</td>\n",
              "      <td>R</td>\n",
              "      <td>Adventure</td>\n",
              "      <td>1980</td>\n",
              "      <td>July 2, 1980 (United States)</td>\n",
              "      <td>5.8</td>\n",
              "      <td>65000.0</td>\n",
              "      <td>Randal Kleiser</td>\n",
              "      <td>Henry De Vere Stacpoole</td>\n",
              "      <td>Brooke Shields</td>\n",
              "      <td>United States</td>\n",
              "      <td>4500000.0</td>\n",
              "      <td>58853106.0</td>\n",
              "      <td>Columbia Pictures</td>\n",
              "      <td>104.0</td>\n",
              "    </tr>\n",
              "    <tr>\n",
              "      <th>2</th>\n",
              "      <td>Star Wars: Episode V - The Empire Strikes Back</td>\n",
              "      <td>PG</td>\n",
              "      <td>Action</td>\n",
              "      <td>1980</td>\n",
              "      <td>June 20, 1980 (United States)</td>\n",
              "      <td>8.7</td>\n",
              "      <td>1200000.0</td>\n",
              "      <td>Irvin Kershner</td>\n",
              "      <td>Leigh Brackett</td>\n",
              "      <td>Mark Hamill</td>\n",
              "      <td>United States</td>\n",
              "      <td>18000000.0</td>\n",
              "      <td>538375067.0</td>\n",
              "      <td>Lucasfilm</td>\n",
              "      <td>124.0</td>\n",
              "    </tr>\n",
              "    <tr>\n",
              "      <th>3</th>\n",
              "      <td>Airplane!</td>\n",
              "      <td>PG</td>\n",
              "      <td>Comedy</td>\n",
              "      <td>1980</td>\n",
              "      <td>July 2, 1980 (United States)</td>\n",
              "      <td>7.7</td>\n",
              "      <td>221000.0</td>\n",
              "      <td>Jim Abrahams</td>\n",
              "      <td>Jim Abrahams</td>\n",
              "      <td>Robert Hays</td>\n",
              "      <td>United States</td>\n",
              "      <td>3500000.0</td>\n",
              "      <td>83453539.0</td>\n",
              "      <td>Paramount Pictures</td>\n",
              "      <td>88.0</td>\n",
              "    </tr>\n",
              "    <tr>\n",
              "      <th>4</th>\n",
              "      <td>Caddyshack</td>\n",
              "      <td>R</td>\n",
              "      <td>Comedy</td>\n",
              "      <td>1980</td>\n",
              "      <td>July 25, 1980 (United States)</td>\n",
              "      <td>7.3</td>\n",
              "      <td>108000.0</td>\n",
              "      <td>Harold Ramis</td>\n",
              "      <td>Brian Doyle-Murray</td>\n",
              "      <td>Chevy Chase</td>\n",
              "      <td>United States</td>\n",
              "      <td>6000000.0</td>\n",
              "      <td>39846344.0</td>\n",
              "      <td>Orion Pictures</td>\n",
              "      <td>98.0</td>\n",
              "    </tr>\n",
              "  </tbody>\n",
              "</table>\n",
              "</div>\n",
              "      <button class=\"colab-df-convert\" onclick=\"convertToInteractive('df-8de19938-71a6-47a2-b050-9c8a800d6e65')\"\n",
              "              title=\"Convert this dataframe to an interactive table.\"\n",
              "              style=\"display:none;\">\n",
              "        \n",
              "  <svg xmlns=\"http://www.w3.org/2000/svg\" height=\"24px\"viewBox=\"0 0 24 24\"\n",
              "       width=\"24px\">\n",
              "    <path d=\"M0 0h24v24H0V0z\" fill=\"none\"/>\n",
              "    <path d=\"M18.56 5.44l.94 2.06.94-2.06 2.06-.94-2.06-.94-.94-2.06-.94 2.06-2.06.94zm-11 1L8.5 8.5l.94-2.06 2.06-.94-2.06-.94L8.5 2.5l-.94 2.06-2.06.94zm10 10l.94 2.06.94-2.06 2.06-.94-2.06-.94-.94-2.06-.94 2.06-2.06.94z\"/><path d=\"M17.41 7.96l-1.37-1.37c-.4-.4-.92-.59-1.43-.59-.52 0-1.04.2-1.43.59L10.3 9.45l-7.72 7.72c-.78.78-.78 2.05 0 2.83L4 21.41c.39.39.9.59 1.41.59.51 0 1.02-.2 1.41-.59l7.78-7.78 2.81-2.81c.8-.78.8-2.07 0-2.86zM5.41 20L4 18.59l7.72-7.72 1.47 1.35L5.41 20z\"/>\n",
              "  </svg>\n",
              "      </button>\n",
              "      \n",
              "  <style>\n",
              "    .colab-df-container {\n",
              "      display:flex;\n",
              "      flex-wrap:wrap;\n",
              "      gap: 12px;\n",
              "    }\n",
              "\n",
              "    .colab-df-convert {\n",
              "      background-color: #E8F0FE;\n",
              "      border: none;\n",
              "      border-radius: 50%;\n",
              "      cursor: pointer;\n",
              "      display: none;\n",
              "      fill: #1967D2;\n",
              "      height: 32px;\n",
              "      padding: 0 0 0 0;\n",
              "      width: 32px;\n",
              "    }\n",
              "\n",
              "    .colab-df-convert:hover {\n",
              "      background-color: #E2EBFA;\n",
              "      box-shadow: 0px 1px 2px rgba(60, 64, 67, 0.3), 0px 1px 3px 1px rgba(60, 64, 67, 0.15);\n",
              "      fill: #174EA6;\n",
              "    }\n",
              "\n",
              "    [theme=dark] .colab-df-convert {\n",
              "      background-color: #3B4455;\n",
              "      fill: #D2E3FC;\n",
              "    }\n",
              "\n",
              "    [theme=dark] .colab-df-convert:hover {\n",
              "      background-color: #434B5C;\n",
              "      box-shadow: 0px 1px 3px 1px rgba(0, 0, 0, 0.15);\n",
              "      filter: drop-shadow(0px 1px 2px rgba(0, 0, 0, 0.3));\n",
              "      fill: #FFFFFF;\n",
              "    }\n",
              "  </style>\n",
              "\n",
              "      <script>\n",
              "        const buttonEl =\n",
              "          document.querySelector('#df-8de19938-71a6-47a2-b050-9c8a800d6e65 button.colab-df-convert');\n",
              "        buttonEl.style.display =\n",
              "          google.colab.kernel.accessAllowed ? 'block' : 'none';\n",
              "\n",
              "        async function convertToInteractive(key) {\n",
              "          const element = document.querySelector('#df-8de19938-71a6-47a2-b050-9c8a800d6e65');\n",
              "          const dataTable =\n",
              "            await google.colab.kernel.invokeFunction('convertToInteractive',\n",
              "                                                     [key], {});\n",
              "          if (!dataTable) return;\n",
              "\n",
              "          const docLinkHtml = 'Like what you see? Visit the ' +\n",
              "            '<a target=\"_blank\" href=https://colab.research.google.com/notebooks/data_table.ipynb>data table notebook</a>'\n",
              "            + ' to learn more about interactive tables.';\n",
              "          element.innerHTML = '';\n",
              "          dataTable['output_type'] = 'display_data';\n",
              "          await google.colab.output.renderOutput(dataTable, element);\n",
              "          const docLink = document.createElement('div');\n",
              "          docLink.innerHTML = docLinkHtml;\n",
              "          element.appendChild(docLink);\n",
              "        }\n",
              "      </script>\n",
              "    </div>\n",
              "  </div>\n",
              "  "
            ]
          },
          "metadata": {},
          "execution_count": 3
        }
      ]
    },
    {
      "cell_type": "code",
      "source": [
        "movies.info()"
      ],
      "metadata": {
        "colab": {
          "base_uri": "https://localhost:8080/"
        },
        "id": "edXGm6W5slpr",
        "outputId": "88082a5f-6575-47a8-b146-9aaedea849ae"
      },
      "execution_count": 4,
      "outputs": [
        {
          "output_type": "stream",
          "name": "stdout",
          "text": [
            "<class 'pandas.core.frame.DataFrame'>\n",
            "RangeIndex: 7668 entries, 0 to 7667\n",
            "Data columns (total 15 columns):\n",
            " #   Column    Non-Null Count  Dtype  \n",
            "---  ------    --------------  -----  \n",
            " 0   name      7668 non-null   object \n",
            " 1   rating    7591 non-null   object \n",
            " 2   genre     7668 non-null   object \n",
            " 3   year      7668 non-null   int64  \n",
            " 4   released  7666 non-null   object \n",
            " 5   score     7665 non-null   float64\n",
            " 6   votes     7665 non-null   float64\n",
            " 7   director  7668 non-null   object \n",
            " 8   writer    7665 non-null   object \n",
            " 9   star      7667 non-null   object \n",
            " 10  country   7665 non-null   object \n",
            " 11  budget    5497 non-null   float64\n",
            " 12  gross     7479 non-null   float64\n",
            " 13  company   7651 non-null   object \n",
            " 14  runtime   7664 non-null   float64\n",
            "dtypes: float64(5), int64(1), object(9)\n",
            "memory usage: 898.7+ KB\n"
          ]
        }
      ]
    },
    {
      "cell_type": "markdown",
      "source": [
        "## Data Cleaning"
      ],
      "metadata": {
        "id": "gaLxXWyTrsva"
      }
    },
    {
      "cell_type": "markdown",
      "source": [
        "### Missing Values"
      ],
      "metadata": {
        "id": "mYEI7cAQvauO"
      }
    },
    {
      "cell_type": "code",
      "source": [
        "movies.isnull().sum()"
      ],
      "metadata": {
        "colab": {
          "base_uri": "https://localhost:8080/"
        },
        "id": "nXtLvP_5r1Xa",
        "outputId": "a5801bf3-6db6-436e-90aa-9f9db88bc7c7"
      },
      "execution_count": 5,
      "outputs": [
        {
          "output_type": "execute_result",
          "data": {
            "text/plain": [
              "name           0\n",
              "rating        77\n",
              "genre          0\n",
              "year           0\n",
              "released       2\n",
              "score          3\n",
              "votes          3\n",
              "director       0\n",
              "writer         3\n",
              "star           1\n",
              "country        3\n",
              "budget      2171\n",
              "gross        189\n",
              "company       17\n",
              "runtime        4\n",
              "dtype: int64"
            ]
          },
          "metadata": {},
          "execution_count": 5
        }
      ]
    },
    {
      "cell_type": "markdown",
      "source": [
        "There are several columns with missing values, so let's take a deeper look to see if we should remove them or impute them with something."
      ],
      "metadata": {
        "id": "CkayjHqYsDLk"
      }
    },
    {
      "cell_type": "markdown",
      "source": [
        "There are several columns where we have no basis on which we can use imputation. We will drop rows with NaN values in these columns: `rating`, `released`, `writer`, `star`, `country`, `company`."
      ],
      "metadata": {
        "id": "mMrjq5rntUdw"
      }
    },
    {
      "cell_type": "code",
      "source": [
        "movies.dropna(axis=0, how='any', subset=['rating', 'released', 'writer', 'star', 'country', 'company'], inplace=True)\n",
        "movies.isnull().sum()"
      ],
      "metadata": {
        "colab": {
          "base_uri": "https://localhost:8080/"
        },
        "id": "rLfBEPm3sZ-A",
        "outputId": "b2787a80-38df-4ee2-aeee-f7e9c1385e89"
      },
      "execution_count": 6,
      "outputs": [
        {
          "output_type": "execute_result",
          "data": {
            "text/plain": [
              "name           0\n",
              "rating         0\n",
              "genre          0\n",
              "year           0\n",
              "released       0\n",
              "score          1\n",
              "votes          1\n",
              "director       0\n",
              "writer         0\n",
              "star           0\n",
              "country        0\n",
              "budget      2101\n",
              "gross        163\n",
              "company        0\n",
              "runtime        1\n",
              "dtype: int64"
            ]
          },
          "metadata": {},
          "execution_count": 6
        }
      ]
    },
    {
      "cell_type": "markdown",
      "source": [
        "For the other columns with missing values, let's take a look at their distribution."
      ],
      "metadata": {
        "id": "I9sS49s0t79v"
      }
    },
    {
      "cell_type": "code",
      "source": [
        "sns.histplot(movies['score'])"
      ],
      "metadata": {
        "colab": {
          "base_uri": "https://localhost:8080/",
          "height": 517
        },
        "id": "Lp4EBSoJuCsb",
        "outputId": "9a128124-c7a9-43bb-821c-bca63292557c"
      },
      "execution_count": 7,
      "outputs": [
        {
          "output_type": "execute_result",
          "data": {
            "text/plain": [
              "<matplotlib.axes._subplots.AxesSubplot at 0x7f170f304a90>"
            ]
          },
          "metadata": {},
          "execution_count": 7
        },
        {
          "output_type": "display_data",
          "data": {
            "text/plain": [
              "<Figure size 864x576 with 1 Axes>"
            ],
            "image/png": "[encoded data removed]"
          },
          "metadata": {
            "needs_background": "light"
          }
        }
      ]
    },
    {
      "cell_type": "markdown",
      "source": [
        "Let's impute the missing `score` value using the mean, since the distribution looks somewhat normal."
      ],
      "metadata": {
        "id": "lq157j8GuGTZ"
      }
    },
    {
      "cell_type": "code",
      "source": [
        "movies.loc[movies['score'].isnull(), 'score'] = movies['score'].mean()"
      ],
      "metadata": {
        "id": "eTm_-X6auPu9"
      },
      "execution_count": 8,
      "outputs": []
    },
    {
      "cell_type": "code",
      "source": [
        "movies['score'].isnull().sum()"
      ],
      "metadata": {
        "colab": {
          "base_uri": "https://localhost:8080/"
        },
        "id": "G7j8fBsTuVm9",
        "outputId": "8aa210f2-c40c-48ad-c121-ea299f9817c0"
      },
      "execution_count": 9,
      "outputs": [
        {
          "output_type": "execute_result",
          "data": {
            "text/plain": [
              "0"
            ]
          },
          "metadata": {},
          "execution_count": 9
        }
      ]
    },
    {
      "cell_type": "markdown",
      "source": [
        "Now, let's check out `votes`"
      ],
      "metadata": {
        "id": "WrN_AGCaueVe"
      }
    },
    {
      "cell_type": "code",
      "source": [
        "sns.histplot(movies['votes'])"
      ],
      "metadata": {
        "colab": {
          "base_uri": "https://localhost:8080/",
          "height": 517
        },
        "id": "M3dJNHDkums3",
        "outputId": "f6c386a5-9022-4200-fb19-8e6a04f0043a"
      },
      "execution_count": 10,
      "outputs": [
        {
          "output_type": "execute_result",
          "data": {
            "text/plain": [
              "<matplotlib.axes._subplots.AxesSubplot at 0x7f170ec7ae50>"
            ]
          },
          "metadata": {},
          "execution_count": 10
        },
        {
          "output_type": "display_data",
          "data": {
            "text/plain": [
              "<Figure size 864x576 with 1 Axes>"
            ],
            "image/png": "[encoded data removed]"
          },
          "metadata": {
            "needs_background": "light"
          }
        }
      ]
    },
    {
      "cell_type": "markdown",
      "source": [
        "Since the distribution is skewed, let's use the median."
      ],
      "metadata": {
        "id": "Aqrb5LGzun8X"
      }
    },
    {
      "cell_type": "code",
      "source": [
        "movies.loc[movies['votes'].isnull(), 'votes'] = movies['votes'].median()\n",
        "movies['votes'].isnull().sum()"
      ],
      "metadata": {
        "colab": {
          "base_uri": "https://localhost:8080/"
        },
        "id": "7raccJq9usB3",
        "outputId": "eaf7098d-8da3-4177-c515-2a48028d0bc7"
      },
      "execution_count": 11,
      "outputs": [
        {
          "output_type": "execute_result",
          "data": {
            "text/plain": [
              "0"
            ]
          },
          "metadata": {},
          "execution_count": 11
        }
      ]
    },
    {
      "cell_type": "markdown",
      "source": [
        "Now, we look at `runtime`."
      ],
      "metadata": {
        "id": "JeFlnsiku4oh"
      }
    },
    {
      "cell_type": "code",
      "source": [
        "sns.histplot(movies['runtime'])"
      ],
      "metadata": {
        "colab": {
          "base_uri": "https://localhost:8080/",
          "height": 517
        },
        "id": "5v6-1rlqu9V9",
        "outputId": "48e88296-b136-458a-dd0d-0404d3a27adc"
      },
      "execution_count": 12,
      "outputs": [
        {
          "output_type": "execute_result",
          "data": {
            "text/plain": [
              "<matplotlib.axes._subplots.AxesSubplot at 0x7f170e871590>"
            ]
          },
          "metadata": {},
          "execution_count": 12
        },
        {
          "output_type": "display_data",
          "data": {
            "text/plain": [
              "<Figure size 864x576 with 1 Axes>"
            ],
            "image/png": "[encoded data removed]"
          },
          "metadata": {
            "needs_background": "light"
          }
        }
      ]
    },
    {
      "cell_type": "markdown",
      "source": [
        "This time we will impute using the mean, since the distribution is roughly normal."
      ],
      "metadata": {
        "id": "Ed0kqg7NvAAt"
      }
    },
    {
      "cell_type": "code",
      "source": [
        "movies.loc[movies['runtime'].isnull(), 'runtime'] = movies['runtime'].mean()\n",
        "movies['runtime'].isnull().sum()"
      ],
      "metadata": {
        "colab": {
          "base_uri": "https://localhost:8080/"
        },
        "id": "tG79N7sqvGml",
        "outputId": "b553956d-ef62-4363-b2b9-b83f1c8e89e0"
      },
      "execution_count": 13,
      "outputs": [
        {
          "output_type": "execute_result",
          "data": {
            "text/plain": [
              "0"
            ]
          },
          "metadata": {},
          "execution_count": 13
        }
      ]
    },
    {
      "cell_type": "markdown",
      "source": [
        "Next, we look at `budget`."
      ],
      "metadata": {
        "id": "ziPpN4tfvNX5"
      }
    },
    {
      "cell_type": "code",
      "source": [
        "sns.histplot(movies['budget'])"
      ],
      "metadata": {
        "colab": {
          "base_uri": "https://localhost:8080/",
          "height": 517
        },
        "id": "XQeV7gKbvRA9",
        "outputId": "1c2c3654-44dc-4206-b973-ccc9138c57ca"
      },
      "execution_count": 14,
      "outputs": [
        {
          "output_type": "execute_result",
          "data": {
            "text/plain": [
              "<matplotlib.axes._subplots.AxesSubplot at 0x7f170e68e310>"
            ]
          },
          "metadata": {},
          "execution_count": 14
        },
        {
          "output_type": "display_data",
          "data": {
            "text/plain": [
              "<Figure size 864x576 with 1 Axes>"
            ],
            "image/png": "[encoded data removed]"
          },
          "metadata": {
            "needs_background": "light"
          }
        }
      ]
    },
    {
      "cell_type": "markdown",
      "source": [
        "Let's impute `budget` using the median, since the distribution is quite skewed."
      ],
      "metadata": {
        "id": "q0Qy4N0fvSWA"
      }
    },
    {
      "cell_type": "code",
      "source": [
        "from sklearn.impute import SimpleImputer\n",
        "budget_imp = SimpleImputer(strategy='median')\n",
        "movies['budget'] = budget_imp.fit_transform(np.array(movies['budget']).reshape(-1,1))\n",
        "movies['budget'].isnull().sum()"
      ],
      "metadata": {
        "colab": {
          "base_uri": "https://localhost:8080/"
        },
        "id": "0GtLgFgSvYbz",
        "outputId": "6eddbd05-bfe1-48ac-c885-cf32bc8520a2"
      },
      "execution_count": 15,
      "outputs": [
        {
          "output_type": "execute_result",
          "data": {
            "text/plain": [
              "0"
            ]
          },
          "metadata": {},
          "execution_count": 15
        }
      ]
    },
    {
      "cell_type": "markdown",
      "source": [
        "Lastly, we look at `gross`."
      ],
      "metadata": {
        "id": "GQHmdUAIv2bR"
      }
    },
    {
      "cell_type": "code",
      "source": [
        "sns.histplot(movies['gross'])"
      ],
      "metadata": {
        "colab": {
          "base_uri": "https://localhost:8080/",
          "height": 517
        },
        "id": "Rs7Nm3cNv9dQ",
        "outputId": "a5ba2c5f-6523-42e3-b68c-eee0ff4bd92b"
      },
      "execution_count": 16,
      "outputs": [
        {
          "output_type": "execute_result",
          "data": {
            "text/plain": [
              "<matplotlib.axes._subplots.AxesSubplot at 0x7f170e878150>"
            ]
          },
          "metadata": {},
          "execution_count": 16
        },
        {
          "output_type": "display_data",
          "data": {
            "text/plain": [
              "<Figure size 864x576 with 1 Axes>"
            ],
            "image/png": "[encoded data removed]"
          },
          "metadata": {
            "needs_background": "light"
          }
        }
      ]
    },
    {
      "cell_type": "markdown",
      "source": [
        "The distribution is here is also heavily skewed, so we will impute using the median again."
      ],
      "metadata": {
        "id": "Jn9xuIZuv-zv"
      }
    },
    {
      "cell_type": "code",
      "source": [
        "gross_imp = SimpleImputer(strategy='median')\n",
        "movies['gross'] = gross_imp.fit_transform(np.array(movies['gross']).reshape(-1,1))\n",
        "movies['gross'].isnull().sum()"
      ],
      "metadata": {
        "colab": {
          "base_uri": "https://localhost:8080/"
        },
        "id": "O8E0idZTwE06",
        "outputId": "a811cf7d-367e-4ff6-b14f-e60e391b04f8"
      },
      "execution_count": 17,
      "outputs": [
        {
          "output_type": "execute_result",
          "data": {
            "text/plain": [
              "0"
            ]
          },
          "metadata": {},
          "execution_count": 17
        }
      ]
    },
    {
      "cell_type": "markdown",
      "source": [
        "### Check for Duplicates"
      ],
      "metadata": {
        "id": "xWR87koBwSpC"
      }
    },
    {
      "cell_type": "code",
      "source": [
        "movies[movies.duplicated(keep=False)]"
      ],
      "metadata": {
        "colab": {
          "base_uri": "https://localhost:8080/",
          "height": 49
        },
        "id": "d62Bxhbl0xbD",
        "outputId": "ef95b45f-428f-4805-cbe3-3311dc5ff04d"
      },
      "execution_count": 18,
      "outputs": [
        {
          "output_type": "execute_result",
          "data": {
            "text/plain": [
              "Empty DataFrame\n",
              "Columns: [name, rating, genre, year, released, score, votes, director, writer, star, country, budget, gross, company, runtime]\n",
              "Index: []"
            ],
            "text/html": [
              "\n",
              "  <div id=\"df-0ba88816-f5fc-4ba1-987a-810185e388b9\">\n",
              "    <div class=\"colab-df-container\">\n",
              "      <div>\n",
              "<style scoped>\n",
              "    .dataframe tbody tr th:only-of-type {\n",
              "        vertical-align: middle;\n",
              "    }\n",
              "\n",
              "    .dataframe tbody tr th {\n",
              "        vertical-align: top;\n",
              "    }\n",
              "\n",
              "    .dataframe thead th {\n",
              "        text-align: right;\n",
              "    }\n",
              "</style>\n",
              "<table border=\"1\" class=\"dataframe\">\n",
              "  <thead>\n",
              "    <tr style=\"text-align: right;\">\n",
              "      <th></th>\n",
              "      <th>name</th>\n",
              "      <th>rating</th>\n",
              "      <th>genre</th>\n",
              "      <th>year</th>\n",
              "      <th>released</th>\n",
              "      <th>score</th>\n",
              "      <th>votes</th>\n",
              "      <th>director</th>\n",
              "      <th>writer</th>\n",
              "      <th>star</th>\n",
              "      <th>country</th>\n",
              "      <th>budget</th>\n",
              "      <th>gross</th>\n",
              "      <th>company</th>\n",
              "      <th>runtime</th>\n",
              "    </tr>\n",
              "  </thead>\n",
              "  <tbody>\n",
              "  </tbody>\n",
              "</table>\n",
              "</div>\n",
              "      <button class=\"colab-df-convert\" onclick=\"convertToInteractive('df-0ba88816-f5fc-4ba1-987a-810185e388b9')\"\n",
              "              title=\"Convert this dataframe to an interactive table.\"\n",
              "              style=\"display:none;\">\n",
              "        \n",
              "  <svg xmlns=\"http://www.w3.org/2000/svg\" height=\"24px\"viewBox=\"0 0 24 24\"\n",
              "       width=\"24px\">\n",
              "    <path d=\"M0 0h24v24H0V0z\" fill=\"none\"/>\n",
              "    <path d=\"M18.56 5.44l.94 2.06.94-2.06 2.06-.94-2.06-.94-.94-2.06-.94 2.06-2.06.94zm-11 1L8.5 8.5l.94-2.06 2.06-.94-2.06-.94L8.5 2.5l-.94 2.06-2.06.94zm10 10l.94 2.06.94-2.06 2.06-.94-2.06-.94-.94-2.06-.94 2.06-2.06.94z\"/><path d=\"M17.41 7.96l-1.37-1.37c-.4-.4-.92-.59-1.43-.59-.52 0-1.04.2-1.43.59L10.3 9.45l-7.72 7.72c-.78.78-.78 2.05 0 2.83L4 21.41c.39.39.9.59 1.41.59.51 0 1.02-.2 1.41-.59l7.78-7.78 2.81-2.81c.8-.78.8-2.07 0-2.86zM5.41 20L4 18.59l7.72-7.72 1.47 1.35L5.41 20z\"/>\n",
              "  </svg>\n",
              "      </button>\n",
              "      \n",
              "  <style>\n",
              "    .colab-df-container {\n",
              "      display:flex;\n",
              "      flex-wrap:wrap;\n",
              "      gap: 12px;\n",
              "    }\n",
              "\n",
              "    .colab-df-convert {\n",
              "      background-color: #E8F0FE;\n",
              "      border: none;\n",
              "      border-radius: 50%;\n",
              "      cursor: pointer;\n",
              "      display: none;\n",
              "      fill: #1967D2;\n",
              "      height: 32px;\n",
              "      padding: 0 0 0 0;\n",
              "      width: 32px;\n",
              "    }\n",
              "\n",
              "    .colab-df-convert:hover {\n",
              "      background-color: #E2EBFA;\n",
              "      box-shadow: 0px 1px 2px rgba(60, 64, 67, 0.3), 0px 1px 3px 1px rgba(60, 64, 67, 0.15);\n",
              "      fill: #174EA6;\n",
              "    }\n",
              "\n",
              "    [theme=dark] .colab-df-convert {\n",
              "      background-color: #3B4455;\n",
              "      fill: #D2E3FC;\n",
              "    }\n",
              "\n",
              "    [theme=dark] .colab-df-convert:hover {\n",
              "      background-color: #434B5C;\n",
              "      box-shadow: 0px 1px 3px 1px rgba(0, 0, 0, 0.15);\n",
              "      filter: drop-shadow(0px 1px 2px rgba(0, 0, 0, 0.3));\n",
              "      fill: #FFFFFF;\n",
              "    }\n",
              "  </style>\n",
              "\n",
              "      <script>\n",
              "        const buttonEl =\n",
              "          document.querySelector('#df-0ba88816-f5fc-4ba1-987a-810185e388b9 button.colab-df-convert');\n",
              "        buttonEl.style.display =\n",
              "          google.colab.kernel.accessAllowed ? 'block' : 'none';\n",
              "\n",
              "        async function convertToInteractive(key) {\n",
              "          const element = document.querySelector('#df-0ba88816-f5fc-4ba1-987a-810185e388b9');\n",
              "          const dataTable =\n",
              "            await google.colab.kernel.invokeFunction('convertToInteractive',\n",
              "                                                     [key], {});\n",
              "          if (!dataTable) return;\n",
              "\n",
              "          const docLinkHtml = 'Like what you see? Visit the ' +\n",
              "            '<a target=\"_blank\" href=https://colab.research.google.com/notebooks/data_table.ipynb>data table notebook</a>'\n",
              "            + ' to learn more about interactive tables.';\n",
              "          element.innerHTML = '';\n",
              "          dataTable['output_type'] = 'display_data';\n",
              "          await google.colab.output.renderOutput(dataTable, element);\n",
              "          const docLink = document.createElement('div');\n",
              "          docLink.innerHTML = docLinkHtml;\n",
              "          element.appendChild(docLink);\n",
              "        }\n",
              "      </script>\n",
              "    </div>\n",
              "  </div>\n",
              "  "
            ]
          },
          "metadata": {},
          "execution_count": 18
        }
      ]
    },
    {
      "cell_type": "markdown",
      "source": [
        "So we have no duplicates WOOHOO!"
      ],
      "metadata": {
        "id": "gOJBbZPc003f"
      }
    },
    {
      "cell_type": "markdown",
      "source": [
        "### Data Cleaning and Formatting"
      ],
      "metadata": {
        "id": "W6vjA7as04qU"
      }
    },
    {
      "cell_type": "code",
      "source": [
        "movies.dtypes"
      ],
      "metadata": {
        "colab": {
          "base_uri": "https://localhost:8080/"
        },
        "id": "ItKUlG741Aj_",
        "outputId": "8dd7f21e-1564-40b8-dfa7-05f645f2bdbc"
      },
      "execution_count": 19,
      "outputs": [
        {
          "output_type": "execute_result",
          "data": {
            "text/plain": [
              "name         object\n",
              "rating       object\n",
              "genre        object\n",
              "year          int64\n",
              "released     object\n",
              "score       float64\n",
              "votes       float64\n",
              "director     object\n",
              "writer       object\n",
              "star         object\n",
              "country      object\n",
              "budget      float64\n",
              "gross       float64\n",
              "company      object\n",
              "runtime     float64\n",
              "dtype: object"
            ]
          },
          "metadata": {},
          "execution_count": 19
        }
      ]
    },
    {
      "cell_type": "code",
      "source": [
        "movies.head()"
      ],
      "metadata": {
        "colab": {
          "base_uri": "https://localhost:8080/",
          "height": 510
        },
        "id": "_4_vlBVZ1B4A",
        "outputId": "2626b543-e408-4607-9190-f3dbad1647f6"
      },
      "execution_count": 20,
      "outputs": [
        {
          "output_type": "execute_result",
          "data": {
            "text/plain": [
              "                                             name rating      genre  year  \\\n",
              "0                                     The Shining      R      Drama  1980   \n",
              "1                                 The Blue Lagoon      R  Adventure  1980   \n",
              "2  Star Wars: Episode V - The Empire Strikes Back     PG     Action  1980   \n",
              "3                                       Airplane!     PG     Comedy  1980   \n",
              "4                                      Caddyshack      R     Comedy  1980   \n",
              "\n",
              "                        released  score      votes         director  \\\n",
              "0  June 13, 1980 (United States)    8.4   927000.0  Stanley Kubrick   \n",
              "1   July 2, 1980 (United States)    5.8    65000.0   Randal Kleiser   \n",
              "2  June 20, 1980 (United States)    8.7  1200000.0   Irvin Kershner   \n",
              "3   July 2, 1980 (United States)    7.7   221000.0     Jim Abrahams   \n",
              "4  July 25, 1980 (United States)    7.3   108000.0     Harold Ramis   \n",
              "\n",
              "                    writer            star         country      budget  \\\n",
              "0             Stephen King  Jack Nicholson  United Kingdom  19000000.0   \n",
              "1  Henry De Vere Stacpoole  Brooke Shields   United States   4500000.0   \n",
              "2           Leigh Brackett     Mark Hamill   United States  18000000.0   \n",
              "3             Jim Abrahams     Robert Hays   United States   3500000.0   \n",
              "4       Brian Doyle-Murray     Chevy Chase   United States   6000000.0   \n",
              "\n",
              "         gross             company  runtime  \n",
              "0   46998772.0        Warner Bros.    146.0  \n",
              "1   58853106.0   Columbia Pictures    104.0  \n",
              "2  538375067.0           Lucasfilm    124.0  \n",
              "3   83453539.0  Paramount Pictures     88.0  \n",
              "4   39846344.0      Orion Pictures     98.0  "
            ],
            "text/html": [
              "\n",
              "  <div id=\"df-1a4792c7-e80c-4612-bb5b-3804e40fece0\">\n",
              "    <div class=\"colab-df-container\">\n",
              "      <div>\n",
              "<style scoped>\n",
              "    .dataframe tbody tr th:only-of-type {\n",
              "        vertical-align: middle;\n",
              "    }\n",
              "\n",
              "    .dataframe tbody tr th {\n",
              "        vertical-align: top;\n",
              "    }\n",
              "\n",
              "    .dataframe thead th {\n",
              "        text-align: right;\n",
              "    }\n",
              "</style>\n",
              "<table border=\"1\" class=\"dataframe\">\n",
              "  <thead>\n",
              "    <tr style=\"text-align: right;\">\n",
              "      <th></th>\n",
              "      <th>name</th>\n",
              "      <th>rating</th>\n",
              "      <th>genre</th>\n",
              "      <th>year</th>\n",
              "      <th>released</th>\n",
              "      <th>score</th>\n",
              "      <th>votes</th>\n",
              "      <th>director</th>\n",
              "      <th>writer</th>\n",
              "      <th>star</th>\n",
              "      <th>country</th>\n",
              "      <th>budget</th>\n",
              "      <th>gross</th>\n",
              "      <th>company</th>\n",
              "      <th>runtime</th>\n",
              "    </tr>\n",
              "  </thead>\n",
              "  <tbody>\n",
              "    <tr>\n",
              "      <th>0</th>\n",
              "      <td>The Shining</td>\n",
              "      <td>R</td>\n",
              "      <td>Drama</td>\n",
              "      <td>1980</td>\n",
              "      <td>June 13, 1980 (United States)</td>\n",
              "      <td>8.4</td>\n",
              "      <td>927000.0</td>\n",
              "      <td>Stanley Kubrick</td>\n",
              "      <td>Stephen King</td>\n",
              "      <td>Jack Nicholson</td>\n",
              "      <td>United Kingdom</td>\n",
              "      <td>19000000.0</td>\n",
              "      <td>46998772.0</td>\n",
              "      <td>Warner Bros.</td>\n",
              "      <td>146.0</td>\n",
              "    </tr>\n",
              "    <tr>\n",
              "      <th>1</th>\n",
              "      <td>The Blue Lagoon</td>\n",
              "      <td>R</td>\n",
              "      <td>Adventure</td>\n",
              "      <td>1980</td>\n",
              "      <td>July 2, 1980 (United States)</td>\n",
              "      <td>5.8</td>\n",
              "      <td>65000.0</td>\n",
              "      <td>Randal Kleiser</td>\n",
              "      <td>Henry De Vere Stacpoole</td>\n",
              "      <td>Brooke Shields</td>\n",
              "      <td>United States</td>\n",
              "      <td>4500000.0</td>\n",
              "      <td>58853106.0</td>\n",
              "      <td>Columbia Pictures</td>\n",
              "      <td>104.0</td>\n",
              "    </tr>\n",
              "    <tr>\n",
              "      <th>2</th>\n",
              "      <td>Star Wars: Episode V - The Empire Strikes Back</td>\n",
              "      <td>PG</td>\n",
              "      <td>Action</td>\n",
              "      <td>1980</td>\n",
              "      <td>June 20, 1980 (United States)</td>\n",
              "      <td>8.7</td>\n",
              "      <td>1200000.0</td>\n",
              "      <td>Irvin Kershner</td>\n",
              "      <td>Leigh Brackett</td>\n",
              "      <td>Mark Hamill</td>\n",
              "      <td>United States</td>\n",
              "      <td>18000000.0</td>\n",
              "      <td>538375067.0</td>\n",
              "      <td>Lucasfilm</td>\n",
              "      <td>124.0</td>\n",
              "    </tr>\n",
              "    <tr>\n",
              "      <th>3</th>\n",
              "      <td>Airplane!</td>\n",
              "      <td>PG</td>\n",
              "      <td>Comedy</td>\n",
              "      <td>1980</td>\n",
              "      <td>July 2, 1980 (United States)</td>\n",
              "      <td>7.7</td>\n",
              "      <td>221000.0</td>\n",
              "      <td>Jim Abrahams</td>\n",
              "      <td>Jim Abrahams</td>\n",
              "      <td>Robert Hays</td>\n",
              "      <td>United States</td>\n",
              "      <td>3500000.0</td>\n",
              "      <td>83453539.0</td>\n",
              "      <td>Paramount Pictures</td>\n",
              "      <td>88.0</td>\n",
              "    </tr>\n",
              "    <tr>\n",
              "      <th>4</th>\n",
              "      <td>Caddyshack</td>\n",
              "      <td>R</td>\n",
              "      <td>Comedy</td>\n",
              "      <td>1980</td>\n",
              "      <td>July 25, 1980 (United States)</td>\n",
              "      <td>7.3</td>\n",
              "      <td>108000.0</td>\n",
              "      <td>Harold Ramis</td>\n",
              "      <td>Brian Doyle-Murray</td>\n",
              "      <td>Chevy Chase</td>\n",
              "      <td>United States</td>\n",
              "      <td>6000000.0</td>\n",
              "      <td>39846344.0</td>\n",
              "      <td>Orion Pictures</td>\n",
              "      <td>98.0</td>\n",
              "    </tr>\n",
              "  </tbody>\n",
              "</table>\n",
              "</div>\n",
              "      <button class=\"colab-df-convert\" onclick=\"convertToInteractive('df-1a4792c7-e80c-4612-bb5b-3804e40fece0')\"\n",
              "              title=\"Convert this dataframe to an interactive table.\"\n",
              "              style=\"display:none;\">\n",
              "        \n",
              "  <svg xmlns=\"http://www.w3.org/2000/svg\" height=\"24px\"viewBox=\"0 0 24 24\"\n",
              "       width=\"24px\">\n",
              "    <path d=\"M0 0h24v24H0V0z\" fill=\"none\"/>\n",
              "    <path d=\"M18.56 5.44l.94 2.06.94-2.06 2.06-.94-2.06-.94-.94-2.06-.94 2.06-2.06.94zm-11 1L8.5 8.5l.94-2.06 2.06-.94-2.06-.94L8.5 2.5l-.94 2.06-2.06.94zm10 10l.94 2.06.94-2.06 2.06-.94-2.06-.94-.94-2.06-.94 2.06-2.06.94z\"/><path d=\"M17.41 7.96l-1.37-1.37c-.4-.4-.92-.59-1.43-.59-.52 0-1.04.2-1.43.59L10.3 9.45l-7.72 7.72c-.78.78-.78 2.05 0 2.83L4 21.41c.39.39.9.59 1.41.59.51 0 1.02-.2 1.41-.59l7.78-7.78 2.81-2.81c.8-.78.8-2.07 0-2.86zM5.41 20L4 18.59l7.72-7.72 1.47 1.35L5.41 20z\"/>\n",
              "  </svg>\n",
              "      </button>\n",
              "      \n",
              "  <style>\n",
              "    .colab-df-container {\n",
              "      display:flex;\n",
              "      flex-wrap:wrap;\n",
              "      gap: 12px;\n",
              "    }\n",
              "\n",
              "    .colab-df-convert {\n",
              "      background-color: #E8F0FE;\n",
              "      border: none;\n",
              "      border-radius: 50%;\n",
              "      cursor: pointer;\n",
              "      display: none;\n",
              "      fill: #1967D2;\n",
              "      height: 32px;\n",
              "      padding: 0 0 0 0;\n",
              "      width: 32px;\n",
              "    }\n",
              "\n",
              "    .colab-df-convert:hover {\n",
              "      background-color: #E2EBFA;\n",
              "      box-shadow: 0px 1px 2px rgba(60, 64, 67, 0.3), 0px 1px 3px 1px rgba(60, 64, 67, 0.15);\n",
              "      fill: #174EA6;\n",
              "    }\n",
              "\n",
              "    [theme=dark] .colab-df-convert {\n",
              "      background-color: #3B4455;\n",
              "      fill: #D2E3FC;\n",
              "    }\n",
              "\n",
              "    [theme=dark] .colab-df-convert:hover {\n",
              "      background-color: #434B5C;\n",
              "      box-shadow: 0px 1px 3px 1px rgba(0, 0, 0, 0.15);\n",
              "      filter: drop-shadow(0px 1px 2px rgba(0, 0, 0, 0.3));\n",
              "      fill: #FFFFFF;\n",
              "    }\n",
              "  </style>\n",
              "\n",
              "      <script>\n",
              "        const buttonEl =\n",
              "          document.querySelector('#df-1a4792c7-e80c-4612-bb5b-3804e40fece0 button.colab-df-convert');\n",
              "        buttonEl.style.display =\n",
              "          google.colab.kernel.accessAllowed ? 'block' : 'none';\n",
              "\n",
              "        async function convertToInteractive(key) {\n",
              "          const element = document.querySelector('#df-1a4792c7-e80c-4612-bb5b-3804e40fece0');\n",
              "          const dataTable =\n",
              "            await google.colab.kernel.invokeFunction('convertToInteractive',\n",
              "                                                     [key], {});\n",
              "          if (!dataTable) return;\n",
              "\n",
              "          const docLinkHtml = 'Like what you see? Visit the ' +\n",
              "            '<a target=\"_blank\" href=https://colab.research.google.com/notebooks/data_table.ipynb>data table notebook</a>'\n",
              "            + ' to learn more about interactive tables.';\n",
              "          element.innerHTML = '';\n",
              "          dataTable['output_type'] = 'display_data';\n",
              "          await google.colab.output.renderOutput(dataTable, element);\n",
              "          const docLink = document.createElement('div');\n",
              "          docLink.innerHTML = docLinkHtml;\n",
              "          element.appendChild(docLink);\n",
              "        }\n",
              "      </script>\n",
              "    </div>\n",
              "  </div>\n",
              "  "
            ]
          },
          "metadata": {},
          "execution_count": 20
        }
      ]
    },
    {
      "cell_type": "markdown",
      "source": [
        "Since `votes`, `budget`, `gross`, `runtime` are of type `float64`, but they are in fact all integer values, let convert those to `int64` instead to save memory and also it just looks better."
      ],
      "metadata": {
        "id": "DfP6xqlK1DFv"
      }
    },
    {
      "cell_type": "code",
      "source": [
        "movies['votes'] = movies['votes'].astype(np.int64)\n",
        "movies['budget'] = movies['budget'].astype(np.int64)\n",
        "movies['gross'] = movies['gross'].astype(np.int64)\n",
        "movies['runtime'] = movies['runtime'].astype(np.int64)\n",
        "movies.dtypes"
      ],
      "metadata": {
        "colab": {
          "base_uri": "https://localhost:8080/"
        },
        "id": "gTlzltmu1Y5c",
        "outputId": "fc98a3e2-a0a1-4643-9937-f11f3b175038"
      },
      "execution_count": 21,
      "outputs": [
        {
          "output_type": "execute_result",
          "data": {
            "text/plain": [
              "name         object\n",
              "rating       object\n",
              "genre        object\n",
              "year          int64\n",
              "released     object\n",
              "score       float64\n",
              "votes         int64\n",
              "director     object\n",
              "writer       object\n",
              "star         object\n",
              "country      object\n",
              "budget        int64\n",
              "gross         int64\n",
              "company      object\n",
              "runtime       int64\n",
              "dtype: object"
            ]
          },
          "metadata": {},
          "execution_count": 21
        }
      ]
    },
    {
      "cell_type": "code",
      "source": [
        "movies.head()"
      ],
      "metadata": {
        "colab": {
          "base_uri": "https://localhost:8080/",
          "height": 510
        },
        "id": "XjWndRTv1lJM",
        "outputId": "e9accf99-4f10-47f9-f4af-0cf462872bf4"
      },
      "execution_count": 22,
      "outputs": [
        {
          "output_type": "execute_result",
          "data": {
            "text/plain": [
              "                                             name rating      genre  year  \\\n",
              "0                                     The Shining      R      Drama  1980   \n",
              "1                                 The Blue Lagoon      R  Adventure  1980   \n",
              "2  Star Wars: Episode V - The Empire Strikes Back     PG     Action  1980   \n",
              "3                                       Airplane!     PG     Comedy  1980   \n",
              "4                                      Caddyshack      R     Comedy  1980   \n",
              "\n",
              "                        released  score    votes         director  \\\n",
              "0  June 13, 1980 (United States)    8.4   927000  Stanley Kubrick   \n",
              "1   July 2, 1980 (United States)    5.8    65000   Randal Kleiser   \n",
              "2  June 20, 1980 (United States)    8.7  1200000   Irvin Kershner   \n",
              "3   July 2, 1980 (United States)    7.7   221000     Jim Abrahams   \n",
              "4  July 25, 1980 (United States)    7.3   108000     Harold Ramis   \n",
              "\n",
              "                    writer            star         country    budget  \\\n",
              "0             Stephen King  Jack Nicholson  United Kingdom  19000000   \n",
              "1  Henry De Vere Stacpoole  Brooke Shields   United States   4500000   \n",
              "2           Leigh Brackett     Mark Hamill   United States  18000000   \n",
              "3             Jim Abrahams     Robert Hays   United States   3500000   \n",
              "4       Brian Doyle-Murray     Chevy Chase   United States   6000000   \n",
              "\n",
              "       gross             company  runtime  \n",
              "0   46998772        Warner Bros.      146  \n",
              "1   58853106   Columbia Pictures      104  \n",
              "2  538375067           Lucasfilm      124  \n",
              "3   83453539  Paramount Pictures       88  \n",
              "4   39846344      Orion Pictures       98  "
            ],
            "text/html": [
              "\n",
              "  <div id=\"df-9b729c69-909b-4313-b036-030635d6e795\">\n",
              "    <div class=\"colab-df-container\">\n",
              "      <div>\n",
              "<style scoped>\n",
              "    .dataframe tbody tr th:only-of-type {\n",
              "        vertical-align: middle;\n",
              "    }\n",
              "\n",
              "    .dataframe tbody tr th {\n",
              "        vertical-align: top;\n",
              "    }\n",
              "\n",
              "    .dataframe thead th {\n",
              "        text-align: right;\n",
              "    }\n",
              "</style>\n",
              "<table border=\"1\" class=\"dataframe\">\n",
              "  <thead>\n",
              "    <tr style=\"text-align: right;\">\n",
              "      <th></th>\n",
              "      <th>name</th>\n",
              "      <th>rating</th>\n",
              "      <th>genre</th>\n",
              "      <th>year</th>\n",
              "      <th>released</th>\n",
              "      <th>score</th>\n",
              "      <th>votes</th>\n",
              "      <th>director</th>\n",
              "      <th>writer</th>\n",
              "      <th>star</th>\n",
              "      <th>country</th>\n",
              "      <th>budget</th>\n",
              "      <th>gross</th>\n",
              "      <th>company</th>\n",
              "      <th>runtime</th>\n",
              "    </tr>\n",
              "  </thead>\n",
              "  <tbody>\n",
              "    <tr>\n",
              "      <th>0</th>\n",
              "      <td>The Shining</td>\n",
              "      <td>R</td>\n",
              "      <td>Drama</td>\n",
              "      <td>1980</td>\n",
              "      <td>June 13, 1980 (United States)</td>\n",
              "      <td>8.4</td>\n",
              "      <td>927000</td>\n",
              "      <td>Stanley Kubrick</td>\n",
              "      <td>Stephen King</td>\n",
              "      <td>Jack Nicholson</td>\n",
              "      <td>United Kingdom</td>\n",
              "      <td>19000000</td>\n",
              "      <td>46998772</td>\n",
              "      <td>Warner Bros.</td>\n",
              "      <td>146</td>\n",
              "    </tr>\n",
              "    <tr>\n",
              "      <th>1</th>\n",
              "      <td>The Blue Lagoon</td>\n",
              "      <td>R</td>\n",
              "      <td>Adventure</td>\n",
              "      <td>1980</td>\n",
              "      <td>July 2, 1980 (United States)</td>\n",
              "      <td>5.8</td>\n",
              "      <td>65000</td>\n",
              "      <td>Randal Kleiser</td>\n",
              "      <td>Henry De Vere Stacpoole</td>\n",
              "      <td>Brooke Shields</td>\n",
              "      <td>United States</td>\n",
              "      <td>4500000</td>\n",
              "      <td>58853106</td>\n",
              "      <td>Columbia Pictures</td>\n",
              "      <td>104</td>\n",
              "    </tr>\n",
              "    <tr>\n",
              "      <th>2</th>\n",
              "      <td>Star Wars: Episode V - The Empire Strikes Back</td>\n",
              "      <td>PG</td>\n",
              "      <td>Action</td>\n",
              "      <td>1980</td>\n",
              "      <td>June 20, 1980 (United States)</td>\n",
              "      <td>8.7</td>\n",
              "      <td>1200000</td>\n",
              "      <td>Irvin Kershner</td>\n",
              "      <td>Leigh Brackett</td>\n",
              "      <td>Mark Hamill</td>\n",
              "      <td>United States</td>\n",
              "      <td>18000000</td>\n",
              "      <td>538375067</td>\n",
              "      <td>Lucasfilm</td>\n",
              "      <td>124</td>\n",
              "    </tr>\n",
              "    <tr>\n",
              "      <th>3</th>\n",
              "      <td>Airplane!</td>\n",
              "      <td>PG</td>\n",
              "      <td>Comedy</td>\n",
              "      <td>1980</td>\n",
              "      <td>July 2, 1980 (United States)</td>\n",
              "      <td>7.7</td>\n",
              "      <td>221000</td>\n",
              "      <td>Jim Abrahams</td>\n",
              "      <td>Jim Abrahams</td>\n",
              "      <td>Robert Hays</td>\n",
              "      <td>United States</td>\n",
              "      <td>3500000</td>\n",
              "      <td>83453539</td>\n",
              "      <td>Paramount Pictures</td>\n",
              "      <td>88</td>\n",
              "    </tr>\n",
              "    <tr>\n",
              "      <th>4</th>\n",
              "      <td>Caddyshack</td>\n",
              "      <td>R</td>\n",
              "      <td>Comedy</td>\n",
              "      <td>1980</td>\n",
              "      <td>July 25, 1980 (United States)</td>\n",
              "      <td>7.3</td>\n",
              "      <td>108000</td>\n",
              "      <td>Harold Ramis</td>\n",
              "      <td>Brian Doyle-Murray</td>\n",
              "      <td>Chevy Chase</td>\n",
              "      <td>United States</td>\n",
              "      <td>6000000</td>\n",
              "      <td>39846344</td>\n",
              "      <td>Orion Pictures</td>\n",
              "      <td>98</td>\n",
              "    </tr>\n",
              "  </tbody>\n",
              "</table>\n",
              "</div>\n",
              "      <button class=\"colab-df-convert\" onclick=\"convertToInteractive('df-9b729c69-909b-4313-b036-030635d6e795')\"\n",
              "              title=\"Convert this dataframe to an interactive table.\"\n",
              "              style=\"display:none;\">\n",
              "        \n",
              "  <svg xmlns=\"http://www.w3.org/2000/svg\" height=\"24px\"viewBox=\"0 0 24 24\"\n",
              "       width=\"24px\">\n",
              "    <path d=\"M0 0h24v24H0V0z\" fill=\"none\"/>\n",
              "    <path d=\"M18.56 5.44l.94 2.06.94-2.06 2.06-.94-2.06-.94-.94-2.06-.94 2.06-2.06.94zm-11 1L8.5 8.5l.94-2.06 2.06-.94-2.06-.94L8.5 2.5l-.94 2.06-2.06.94zm10 10l.94 2.06.94-2.06 2.06-.94-2.06-.94-.94-2.06-.94 2.06-2.06.94z\"/><path d=\"M17.41 7.96l-1.37-1.37c-.4-.4-.92-.59-1.43-.59-.52 0-1.04.2-1.43.59L10.3 9.45l-7.72 7.72c-.78.78-.78 2.05 0 2.83L4 21.41c.39.39.9.59 1.41.59.51 0 1.02-.2 1.41-.59l7.78-7.78 2.81-2.81c.8-.78.8-2.07 0-2.86zM5.41 20L4 18.59l7.72-7.72 1.47 1.35L5.41 20z\"/>\n",
              "  </svg>\n",
              "      </button>\n",
              "      \n",
              "  <style>\n",
              "    .colab-df-container {\n",
              "      display:flex;\n",
              "      flex-wrap:wrap;\n",
              "      gap: 12px;\n",
              "    }\n",
              "\n",
              "    .colab-df-convert {\n",
              "      background-color: #E8F0FE;\n",
              "      border: none;\n",
              "      border-radius: 50%;\n",
              "      cursor: pointer;\n",
              "      display: none;\n",
              "      fill: #1967D2;\n",
              "      height: 32px;\n",
              "      padding: 0 0 0 0;\n",
              "      width: 32px;\n",
              "    }\n",
              "\n",
              "    .colab-df-convert:hover {\n",
              "      background-color: #E2EBFA;\n",
              "      box-shadow: 0px 1px 2px rgba(60, 64, 67, 0.3), 0px 1px 3px 1px rgba(60, 64, 67, 0.15);\n",
              "      fill: #174EA6;\n",
              "    }\n",
              "\n",
              "    [theme=dark] .colab-df-convert {\n",
              "      background-color: #3B4455;\n",
              "      fill: #D2E3FC;\n",
              "    }\n",
              "\n",
              "    [theme=dark] .colab-df-convert:hover {\n",
              "      background-color: #434B5C;\n",
              "      box-shadow: 0px 1px 3px 1px rgba(0, 0, 0, 0.15);\n",
              "      filter: drop-shadow(0px 1px 2px rgba(0, 0, 0, 0.3));\n",
              "      fill: #FFFFFF;\n",
              "    }\n",
              "  </style>\n",
              "\n",
              "      <script>\n",
              "        const buttonEl =\n",
              "          document.querySelector('#df-9b729c69-909b-4313-b036-030635d6e795 button.colab-df-convert');\n",
              "        buttonEl.style.display =\n",
              "          google.colab.kernel.accessAllowed ? 'block' : 'none';\n",
              "\n",
              "        async function convertToInteractive(key) {\n",
              "          const element = document.querySelector('#df-9b729c69-909b-4313-b036-030635d6e795');\n",
              "          const dataTable =\n",
              "            await google.colab.kernel.invokeFunction('convertToInteractive',\n",
              "                                                     [key], {});\n",
              "          if (!dataTable) return;\n",
              "\n",
              "          const docLinkHtml = 'Like what you see? Visit the ' +\n",
              "            '<a target=\"_blank\" href=https://colab.research.google.com/notebooks/data_table.ipynb>data table notebook</a>'\n",
              "            + ' to learn more about interactive tables.';\n",
              "          element.innerHTML = '';\n",
              "          dataTable['output_type'] = 'display_data';\n",
              "          await google.colab.output.renderOutput(dataTable, element);\n",
              "          const docLink = document.createElement('div');\n",
              "          docLink.innerHTML = docLinkHtml;\n",
              "          element.appendChild(docLink);\n",
              "        }\n",
              "      </script>\n",
              "    </div>\n",
              "  </div>\n",
              "  "
            ]
          },
          "metadata": {},
          "execution_count": 22
        }
      ]
    },
    {
      "cell_type": "markdown",
      "source": [
        "Next, let's reformat `released` to `datetime`."
      ],
      "metadata": {
        "id": "WPG2epAe14yj"
      }
    },
    {
      "cell_type": "code",
      "source": [
        "released = movies['released']\n",
        "released.head()"
      ],
      "metadata": {
        "colab": {
          "base_uri": "https://localhost:8080/"
        },
        "id": "bgNSLLfn2Hv1",
        "outputId": "52334165-6c6f-4f8b-8462-a91926e43d95"
      },
      "execution_count": 23,
      "outputs": [
        {
          "output_type": "execute_result",
          "data": {
            "text/plain": [
              "0    June 13, 1980 (United States)\n",
              "1     July 2, 1980 (United States)\n",
              "2    June 20, 1980 (United States)\n",
              "3     July 2, 1980 (United States)\n",
              "4    July 25, 1980 (United States)\n",
              "Name: released, dtype: object"
            ]
          },
          "metadata": {},
          "execution_count": 23
        }
      ]
    },
    {
      "cell_type": "code",
      "source": [
        "# we only extract the date and month, since we already have the year\n",
        "date = released.str.split(',').str[0].str.split().str[1]\n",
        "month = released.str.split(',').str[0].str.split().str[0]\n"
      ],
      "metadata": {
        "id": "YT5aYDRQ2NFA"
      },
      "execution_count": 24,
      "outputs": []
    },
    {
      "cell_type": "code",
      "source": [
        "def convert_month(month):\n",
        "    dictionary = {'January': 1,\n",
        "                  'February': 2,\n",
        "                  'March': 3,\n",
        "                  'April': 4,\n",
        "                  'May': 5,\n",
        "                  'June': 6,\n",
        "                  'July': 7,\n",
        "                  'August': 8,\n",
        "                  'September': 9,\n",
        "                  'October': 10,\n",
        "                  'November': 11,\n",
        "                  'December': 12}\n",
        "    return dictionary.get(month)\n"
      ],
      "metadata": {
        "id": "2xEACjP82RmM"
      },
      "execution_count": 25,
      "outputs": []
    },
    {
      "cell_type": "code",
      "source": [
        "month.apply(convert_month).isnull().sum()"
      ],
      "metadata": {
        "colab": {
          "base_uri": "https://localhost:8080/"
        },
        "id": "NgvxzF1W6-RQ",
        "outputId": "7f0b83ab-612d-43f1-fc3c-0445312617ac"
      },
      "execution_count": 26,
      "outputs": [
        {
          "output_type": "execute_result",
          "data": {
            "text/plain": [
              "9"
            ]
          },
          "metadata": {},
          "execution_count": 26
        }
      ]
    },
    {
      "cell_type": "markdown",
      "source": [
        "Let's investigate which rows lead to these missing months."
      ],
      "metadata": {
        "id": "9nWyQ7zcALk6"
      }
    },
    {
      "cell_type": "code",
      "source": [
        "movies.loc[month.apply(convert_month).isnull(), 'released']"
      ],
      "metadata": {
        "colab": {
          "base_uri": "https://localhost:8080/"
        },
        "id": "4P6R0lLS8hVY",
        "outputId": "4cafb464-7d58-45dc-c7fe-d513bc9efcc0"
      },
      "execution_count": 27,
      "outputs": [
        {
          "output_type": "execute_result",
          "data": {
            "text/plain": [
              "201     1981 (United States)\n",
              "312             1982 (Japan)\n",
              "786            1985 (Taiwan)\n",
              "800     1985 (United States)\n",
              "1173    1987 (United States)\n",
              "1825           1990 (Canada)\n",
              "2816             1995 (Iran)\n",
              "4187    2019 (United States)\n",
              "6413    2013 (United States)\n",
              "Name: released, dtype: object"
            ]
          },
          "metadata": {},
          "execution_count": 27
        }
      ]
    },
    {
      "cell_type": "markdown",
      "source": [
        "Let's convert these to NA then."
      ],
      "metadata": {
        "id": "iSS1ujtPASOL"
      }
    },
    {
      "cell_type": "code",
      "source": [
        "date[month.apply(convert_month).isnull()] = np.NaN\n",
        "month[month.apply(convert_month).isnull()] = np.NaN"
      ],
      "metadata": {
        "id": "igOSAcxD8j0c"
      },
      "execution_count": 28,
      "outputs": []
    },
    {
      "cell_type": "code",
      "source": [
        "movies['date of release'] = date\n",
        "movies['month of release'] = month"
      ],
      "metadata": {
        "id": "PwNUPZBy8-NC"
      },
      "execution_count": 29,
      "outputs": []
    },
    {
      "cell_type": "code",
      "source": [
        "movies.head()"
      ],
      "metadata": {
        "colab": {
          "base_uri": "https://localhost:8080/",
          "height": 583
        },
        "id": "QGvAavHZ9aqU",
        "outputId": "0db1febc-be67-438c-bc12-9e2c801a19f0"
      },
      "execution_count": 30,
      "outputs": [
        {
          "output_type": "execute_result",
          "data": {
            "text/plain": [
              "                                             name rating      genre  year  \\\n",
              "0                                     The Shining      R      Drama  1980   \n",
              "1                                 The Blue Lagoon      R  Adventure  1980   \n",
              "2  Star Wars: Episode V - The Empire Strikes Back     PG     Action  1980   \n",
              "3                                       Airplane!     PG     Comedy  1980   \n",
              "4                                      Caddyshack      R     Comedy  1980   \n",
              "\n",
              "                        released  score    votes         director  \\\n",
              "0  June 13, 1980 (United States)    8.4   927000  Stanley Kubrick   \n",
              "1   July 2, 1980 (United States)    5.8    65000   Randal Kleiser   \n",
              "2  June 20, 1980 (United States)    8.7  1200000   Irvin Kershner   \n",
              "3   July 2, 1980 (United States)    7.7   221000     Jim Abrahams   \n",
              "4  July 25, 1980 (United States)    7.3   108000     Harold Ramis   \n",
              "\n",
              "                    writer            star         country    budget  \\\n",
              "0             Stephen King  Jack Nicholson  United Kingdom  19000000   \n",
              "1  Henry De Vere Stacpoole  Brooke Shields   United States   4500000   \n",
              "2           Leigh Brackett     Mark Hamill   United States  18000000   \n",
              "3             Jim Abrahams     Robert Hays   United States   3500000   \n",
              "4       Brian Doyle-Murray     Chevy Chase   United States   6000000   \n",
              "\n",
              "       gross             company  runtime date of release month of release  \n",
              "0   46998772        Warner Bros.      146              13             June  \n",
              "1   58853106   Columbia Pictures      104               2             July  \n",
              "2  538375067           Lucasfilm      124              20             June  \n",
              "3   83453539  Paramount Pictures       88               2             July  \n",
              "4   39846344      Orion Pictures       98              25             July  "
            ],
            "text/html": [
              "\n",
              "  <div id=\"df-bf3ef21f-6666-4bcd-9fe8-4c45c21c4dff\">\n",
              "    <div class=\"colab-df-container\">\n",
              "      <div>\n",
              "<style scoped>\n",
              "    .dataframe tbody tr th:only-of-type {\n",
              "        vertical-align: middle;\n",
              "    }\n",
              "\n",
              "    .dataframe tbody tr th {\n",
              "        vertical-align: top;\n",
              "    }\n",
              "\n",
              "    .dataframe thead th {\n",
              "        text-align: right;\n",
              "    }\n",
              "</style>\n",
              "<table border=\"1\" class=\"dataframe\">\n",
              "  <thead>\n",
              "    <tr style=\"text-align: right;\">\n",
              "      <th></th>\n",
              "      <th>name</th>\n",
              "      <th>rating</th>\n",
              "      <th>genre</th>\n",
              "      <th>year</th>\n",
              "      <th>released</th>\n",
              "      <th>score</th>\n",
              "      <th>votes</th>\n",
              "      <th>director</th>\n",
              "      <th>writer</th>\n",
              "      <th>star</th>\n",
              "      <th>country</th>\n",
              "      <th>budget</th>\n",
              "      <th>gross</th>\n",
              "      <th>company</th>\n",
              "      <th>runtime</th>\n",
              "      <th>date of release</th>\n",
              "      <th>month of release</th>\n",
              "    </tr>\n",
              "  </thead>\n",
              "  <tbody>\n",
              "    <tr>\n",
              "      <th>0</th>\n",
              "      <td>The Shining</td>\n",
              "      <td>R</td>\n",
              "      <td>Drama</td>\n",
              "      <td>1980</td>\n",
              "      <td>June 13, 1980 (United States)</td>\n",
              "      <td>8.4</td>\n",
              "      <td>927000</td>\n",
              "      <td>Stanley Kubrick</td>\n",
              "      <td>Stephen King</td>\n",
              "      <td>Jack Nicholson</td>\n",
              "      <td>United Kingdom</td>\n",
              "      <td>19000000</td>\n",
              "      <td>46998772</td>\n",
              "      <td>Warner Bros.</td>\n",
              "      <td>146</td>\n",
              "      <td>13</td>\n",
              "      <td>June</td>\n",
              "    </tr>\n",
              "    <tr>\n",
              "      <th>1</th>\n",
              "      <td>The Blue Lagoon</td>\n",
              "      <td>R</td>\n",
              "      <td>Adventure</td>\n",
              "      <td>1980</td>\n",
              "      <td>July 2, 1980 (United States)</td>\n",
              "      <td>5.8</td>\n",
              "      <td>65000</td>\n",
              "      <td>Randal Kleiser</td>\n",
              "      <td>Henry De Vere Stacpoole</td>\n",
              "      <td>Brooke Shields</td>\n",
              "      <td>United States</td>\n",
              "      <td>4500000</td>\n",
              "      <td>58853106</td>\n",
              "      <td>Columbia Pictures</td>\n",
              "      <td>104</td>\n",
              "      <td>2</td>\n",
              "      <td>July</td>\n",
              "    </tr>\n",
              "    <tr>\n",
              "      <th>2</th>\n",
              "      <td>Star Wars: Episode V - The Empire Strikes Back</td>\n",
              "      <td>PG</td>\n",
              "      <td>Action</td>\n",
              "      <td>1980</td>\n",
              "      <td>June 20, 1980 (United States)</td>\n",
              "      <td>8.7</td>\n",
              "      <td>1200000</td>\n",
              "      <td>Irvin Kershner</td>\n",
              "      <td>Leigh Brackett</td>\n",
              "      <td>Mark Hamill</td>\n",
              "      <td>United States</td>\n",
              "      <td>18000000</td>\n",
              "      <td>538375067</td>\n",
              "      <td>Lucasfilm</td>\n",
              "      <td>124</td>\n",
              "      <td>20</td>\n",
              "      <td>June</td>\n",
              "    </tr>\n",
              "    <tr>\n",
              "      <th>3</th>\n",
              "      <td>Airplane!</td>\n",
              "      <td>PG</td>\n",
              "      <td>Comedy</td>\n",
              "      <td>1980</td>\n",
              "      <td>July 2, 1980 (United States)</td>\n",
              "      <td>7.7</td>\n",
              "      <td>221000</td>\n",
              "      <td>Jim Abrahams</td>\n",
              "      <td>Jim Abrahams</td>\n",
              "      <td>Robert Hays</td>\n",
              "      <td>United States</td>\n",
              "      <td>3500000</td>\n",
              "      <td>83453539</td>\n",
              "      <td>Paramount Pictures</td>\n",
              "      <td>88</td>\n",
              "      <td>2</td>\n",
              "      <td>July</td>\n",
              "    </tr>\n",
              "    <tr>\n",
              "      <th>4</th>\n",
              "      <td>Caddyshack</td>\n",
              "      <td>R</td>\n",
              "      <td>Comedy</td>\n",
              "      <td>1980</td>\n",
              "      <td>July 25, 1980 (United States)</td>\n",
              "      <td>7.3</td>\n",
              "      <td>108000</td>\n",
              "      <td>Harold Ramis</td>\n",
              "      <td>Brian Doyle-Murray</td>\n",
              "      <td>Chevy Chase</td>\n",
              "      <td>United States</td>\n",
              "      <td>6000000</td>\n",
              "      <td>39846344</td>\n",
              "      <td>Orion Pictures</td>\n",
              "      <td>98</td>\n",
              "      <td>25</td>\n",
              "      <td>July</td>\n",
              "    </tr>\n",
              "  </tbody>\n",
              "</table>\n",
              "</div>\n",
              "      <button class=\"colab-df-convert\" onclick=\"convertToInteractive('df-bf3ef21f-6666-4bcd-9fe8-4c45c21c4dff')\"\n",
              "              title=\"Convert this dataframe to an interactive table.\"\n",
              "              style=\"display:none;\">\n",
              "        \n",
              "  <svg xmlns=\"http://www.w3.org/2000/svg\" height=\"24px\"viewBox=\"0 0 24 24\"\n",
              "       width=\"24px\">\n",
              "    <path d=\"M0 0h24v24H0V0z\" fill=\"none\"/>\n",
              "    <path d=\"M18.56 5.44l.94 2.06.94-2.06 2.06-.94-2.06-.94-.94-2.06-.94 2.06-2.06.94zm-11 1L8.5 8.5l.94-2.06 2.06-.94-2.06-.94L8.5 2.5l-.94 2.06-2.06.94zm10 10l.94 2.06.94-2.06 2.06-.94-2.06-.94-.94-2.06-.94 2.06-2.06.94z\"/><path d=\"M17.41 7.96l-1.37-1.37c-.4-.4-.92-.59-1.43-.59-.52 0-1.04.2-1.43.59L10.3 9.45l-7.72 7.72c-.78.78-.78 2.05 0 2.83L4 21.41c.39.39.9.59 1.41.59.51 0 1.02-.2 1.41-.59l7.78-7.78 2.81-2.81c.8-.78.8-2.07 0-2.86zM5.41 20L4 18.59l7.72-7.72 1.47 1.35L5.41 20z\"/>\n",
              "  </svg>\n",
              "      </button>\n",
              "      \n",
              "  <style>\n",
              "    .colab-df-container {\n",
              "      display:flex;\n",
              "      flex-wrap:wrap;\n",
              "      gap: 12px;\n",
              "    }\n",
              "\n",
              "    .colab-df-convert {\n",
              "      background-color: #E8F0FE;\n",
              "      border: none;\n",
              "      border-radius: 50%;\n",
              "      cursor: pointer;\n",
              "      display: none;\n",
              "      fill: #1967D2;\n",
              "      height: 32px;\n",
              "      padding: 0 0 0 0;\n",
              "      width: 32px;\n",
              "    }\n",
              "\n",
              "    .colab-df-convert:hover {\n",
              "      background-color: #E2EBFA;\n",
              "      box-shadow: 0px 1px 2px rgba(60, 64, 67, 0.3), 0px 1px 3px 1px rgba(60, 64, 67, 0.15);\n",
              "      fill: #174EA6;\n",
              "    }\n",
              "\n",
              "    [theme=dark] .colab-df-convert {\n",
              "      background-color: #3B4455;\n",
              "      fill: #D2E3FC;\n",
              "    }\n",
              "\n",
              "    [theme=dark] .colab-df-convert:hover {\n",
              "      background-color: #434B5C;\n",
              "      box-shadow: 0px 1px 3px 1px rgba(0, 0, 0, 0.15);\n",
              "      filter: drop-shadow(0px 1px 2px rgba(0, 0, 0, 0.3));\n",
              "      fill: #FFFFFF;\n",
              "    }\n",
              "  </style>\n",
              "\n",
              "      <script>\n",
              "        const buttonEl =\n",
              "          document.querySelector('#df-bf3ef21f-6666-4bcd-9fe8-4c45c21c4dff button.colab-df-convert');\n",
              "        buttonEl.style.display =\n",
              "          google.colab.kernel.accessAllowed ? 'block' : 'none';\n",
              "\n",
              "        async function convertToInteractive(key) {\n",
              "          const element = document.querySelector('#df-bf3ef21f-6666-4bcd-9fe8-4c45c21c4dff');\n",
              "          const dataTable =\n",
              "            await google.colab.kernel.invokeFunction('convertToInteractive',\n",
              "                                                     [key], {});\n",
              "          if (!dataTable) return;\n",
              "\n",
              "          const docLinkHtml = 'Like what you see? Visit the ' +\n",
              "            '<a target=\"_blank\" href=https://colab.research.google.com/notebooks/data_table.ipynb>data table notebook</a>'\n",
              "            + ' to learn more about interactive tables.';\n",
              "          element.innerHTML = '';\n",
              "          dataTable['output_type'] = 'display_data';\n",
              "          await google.colab.output.renderOutput(dataTable, element);\n",
              "          const docLink = document.createElement('div');\n",
              "          docLink.innerHTML = docLinkHtml;\n",
              "          element.appendChild(docLink);\n",
              "        }\n",
              "      </script>\n",
              "    </div>\n",
              "  </div>\n",
              "  "
            ]
          },
          "metadata": {},
          "execution_count": 30
        }
      ]
    },
    {
      "cell_type": "code",
      "source": [
        "movies.isnull().sum()"
      ],
      "metadata": {
        "colab": {
          "base_uri": "https://localhost:8080/"
        },
        "id": "Osj96AcD9bxf",
        "outputId": "bce4e996-fcd9-431f-e136-fb02cbde1324"
      },
      "execution_count": 31,
      "outputs": [
        {
          "output_type": "execute_result",
          "data": {
            "text/plain": [
              "name                0\n",
              "rating              0\n",
              "genre               0\n",
              "year                0\n",
              "released            0\n",
              "score               0\n",
              "votes               0\n",
              "director            0\n",
              "writer              0\n",
              "star                0\n",
              "country             0\n",
              "budget              0\n",
              "gross               0\n",
              "company             0\n",
              "runtime             0\n",
              "date of release     9\n",
              "month of release    9\n",
              "dtype: int64"
            ]
          },
          "metadata": {},
          "execution_count": 31
        }
      ]
    },
    {
      "cell_type": "markdown",
      "source": [
        "Let's drop the rows where the date and month of release are not available."
      ],
      "metadata": {
        "id": "M3Upoqu598yZ"
      }
    },
    {
      "cell_type": "code",
      "source": [
        "movies.dropna(axis=0, how='any', subset=['date of release', 'month of release'], inplace=True)\n",
        "movies.isnull().sum()"
      ],
      "metadata": {
        "colab": {
          "base_uri": "https://localhost:8080/"
        },
        "id": "LWBg8SDG9v4V",
        "outputId": "998b2c75-a6d8-4648-9f3c-bab3e1f25f53"
      },
      "execution_count": 32,
      "outputs": [
        {
          "output_type": "execute_result",
          "data": {
            "text/plain": [
              "name                0\n",
              "rating              0\n",
              "genre               0\n",
              "year                0\n",
              "released            0\n",
              "score               0\n",
              "votes               0\n",
              "director            0\n",
              "writer              0\n",
              "star                0\n",
              "country             0\n",
              "budget              0\n",
              "gross               0\n",
              "company             0\n",
              "runtime             0\n",
              "date of release     0\n",
              "month of release    0\n",
              "dtype: int64"
            ]
          },
          "metadata": {},
          "execution_count": 32
        }
      ]
    },
    {
      "cell_type": "code",
      "source": [
        "movies['month of release'] = movies['month of release'].apply(convert_month)"
      ],
      "metadata": {
        "id": "xNotuBeR-FT0"
      },
      "execution_count": 33,
      "outputs": []
    },
    {
      "cell_type": "code",
      "source": [
        "movies.head()"
      ],
      "metadata": {
        "colab": {
          "base_uri": "https://localhost:8080/",
          "height": 583
        },
        "id": "PndOonx1-slN",
        "outputId": "b630b987-f7fd-45cc-a270-8692f4a5c8f7"
      },
      "execution_count": 34,
      "outputs": [
        {
          "output_type": "execute_result",
          "data": {
            "text/plain": [
              "                                             name rating      genre  year  \\\n",
              "0                                     The Shining      R      Drama  1980   \n",
              "1                                 The Blue Lagoon      R  Adventure  1980   \n",
              "2  Star Wars: Episode V - The Empire Strikes Back     PG     Action  1980   \n",
              "3                                       Airplane!     PG     Comedy  1980   \n",
              "4                                      Caddyshack      R     Comedy  1980   \n",
              "\n",
              "                        released  score    votes         director  \\\n",
              "0  June 13, 1980 (United States)    8.4   927000  Stanley Kubrick   \n",
              "1   July 2, 1980 (United States)    5.8    65000   Randal Kleiser   \n",
              "2  June 20, 1980 (United States)    8.7  1200000   Irvin Kershner   \n",
              "3   July 2, 1980 (United States)    7.7   221000     Jim Abrahams   \n",
              "4  July 25, 1980 (United States)    7.3   108000     Harold Ramis   \n",
              "\n",
              "                    writer            star         country    budget  \\\n",
              "0             Stephen King  Jack Nicholson  United Kingdom  19000000   \n",
              "1  Henry De Vere Stacpoole  Brooke Shields   United States   4500000   \n",
              "2           Leigh Brackett     Mark Hamill   United States  18000000   \n",
              "3             Jim Abrahams     Robert Hays   United States   3500000   \n",
              "4       Brian Doyle-Murray     Chevy Chase   United States   6000000   \n",
              "\n",
              "       gross             company  runtime date of release  month of release  \n",
              "0   46998772        Warner Bros.      146              13                 6  \n",
              "1   58853106   Columbia Pictures      104               2                 7  \n",
              "2  538375067           Lucasfilm      124              20                 6  \n",
              "3   83453539  Paramount Pictures       88               2                 7  \n",
              "4   39846344      Orion Pictures       98              25                 7  "
            ],
            "text/html": [
              "\n",
              "  <div id=\"df-b1de6700-9186-4b1c-9840-d76e8528a49b\">\n",
              "    <div class=\"colab-df-container\">\n",
              "      <div>\n",
              "<style scoped>\n",
              "    .dataframe tbody tr th:only-of-type {\n",
              "        vertical-align: middle;\n",
              "    }\n",
              "\n",
              "    .dataframe tbody tr th {\n",
              "        vertical-align: top;\n",
              "    }\n",
              "\n",
              "    .dataframe thead th {\n",
              "        text-align: right;\n",
              "    }\n",
              "</style>\n",
              "<table border=\"1\" class=\"dataframe\">\n",
              "  <thead>\n",
              "    <tr style=\"text-align: right;\">\n",
              "      <th></th>\n",
              "      <th>name</th>\n",
              "      <th>rating</th>\n",
              "      <th>genre</th>\n",
              "      <th>year</th>\n",
              "      <th>released</th>\n",
              "      <th>score</th>\n",
              "      <th>votes</th>\n",
              "      <th>director</th>\n",
              "      <th>writer</th>\n",
              "      <th>star</th>\n",
              "      <th>country</th>\n",
              "      <th>budget</th>\n",
              "      <th>gross</th>\n",
              "      <th>company</th>\n",
              "      <th>runtime</th>\n",
              "      <th>date of release</th>\n",
              "      <th>month of release</th>\n",
              "    </tr>\n",
              "  </thead>\n",
              "  <tbody>\n",
              "    <tr>\n",
              "      <th>0</th>\n",
              "      <td>The Shining</td>\n",
              "      <td>R</td>\n",
              "      <td>Drama</td>\n",
              "      <td>1980</td>\n",
              "      <td>June 13, 1980 (United States)</td>\n",
              "      <td>8.4</td>\n",
              "      <td>927000</td>\n",
              "      <td>Stanley Kubrick</td>\n",
              "      <td>Stephen King</td>\n",
              "      <td>Jack Nicholson</td>\n",
              "      <td>United Kingdom</td>\n",
              "      <td>19000000</td>\n",
              "      <td>46998772</td>\n",
              "      <td>Warner Bros.</td>\n",
              "      <td>146</td>\n",
              "      <td>13</td>\n",
              "      <td>6</td>\n",
              "    </tr>\n",
              "    <tr>\n",
              "      <th>1</th>\n",
              "      <td>The Blue Lagoon</td>\n",
              "      <td>R</td>\n",
              "      <td>Adventure</td>\n",
              "      <td>1980</td>\n",
              "      <td>July 2, 1980 (United States)</td>\n",
              "      <td>5.8</td>\n",
              "      <td>65000</td>\n",
              "      <td>Randal Kleiser</td>\n",
              "      <td>Henry De Vere Stacpoole</td>\n",
              "      <td>Brooke Shields</td>\n",
              "      <td>United States</td>\n",
              "      <td>4500000</td>\n",
              "      <td>58853106</td>\n",
              "      <td>Columbia Pictures</td>\n",
              "      <td>104</td>\n",
              "      <td>2</td>\n",
              "      <td>7</td>\n",
              "    </tr>\n",
              "    <tr>\n",
              "      <th>2</th>\n",
              "      <td>Star Wars: Episode V - The Empire Strikes Back</td>\n",
              "      <td>PG</td>\n",
              "      <td>Action</td>\n",
              "      <td>1980</td>\n",
              "      <td>June 20, 1980 (United States)</td>\n",
              "      <td>8.7</td>\n",
              "      <td>1200000</td>\n",
              "      <td>Irvin Kershner</td>\n",
              "      <td>Leigh Brackett</td>\n",
              "      <td>Mark Hamill</td>\n",
              "      <td>United States</td>\n",
              "      <td>18000000</td>\n",
              "      <td>538375067</td>\n",
              "      <td>Lucasfilm</td>\n",
              "      <td>124</td>\n",
              "      <td>20</td>\n",
              "      <td>6</td>\n",
              "    </tr>\n",
              "    <tr>\n",
              "      <th>3</th>\n",
              "      <td>Airplane!</td>\n",
              "      <td>PG</td>\n",
              "      <td>Comedy</td>\n",
              "      <td>1980</td>\n",
              "      <td>July 2, 1980 (United States)</td>\n",
              "      <td>7.7</td>\n",
              "      <td>221000</td>\n",
              "      <td>Jim Abrahams</td>\n",
              "      <td>Jim Abrahams</td>\n",
              "      <td>Robert Hays</td>\n",
              "      <td>United States</td>\n",
              "      <td>3500000</td>\n",
              "      <td>83453539</td>\n",
              "      <td>Paramount Pictures</td>\n",
              "      <td>88</td>\n",
              "      <td>2</td>\n",
              "      <td>7</td>\n",
              "    </tr>\n",
              "    <tr>\n",
              "      <th>4</th>\n",
              "      <td>Caddyshack</td>\n",
              "      <td>R</td>\n",
              "      <td>Comedy</td>\n",
              "      <td>1980</td>\n",
              "      <td>July 25, 1980 (United States)</td>\n",
              "      <td>7.3</td>\n",
              "      <td>108000</td>\n",
              "      <td>Harold Ramis</td>\n",
              "      <td>Brian Doyle-Murray</td>\n",
              "      <td>Chevy Chase</td>\n",
              "      <td>United States</td>\n",
              "      <td>6000000</td>\n",
              "      <td>39846344</td>\n",
              "      <td>Orion Pictures</td>\n",
              "      <td>98</td>\n",
              "      <td>25</td>\n",
              "      <td>7</td>\n",
              "    </tr>\n",
              "  </tbody>\n",
              "</table>\n",
              "</div>\n",
              "      <button class=\"colab-df-convert\" onclick=\"convertToInteractive('df-b1de6700-9186-4b1c-9840-d76e8528a49b')\"\n",
              "              title=\"Convert this dataframe to an interactive table.\"\n",
              "              style=\"display:none;\">\n",
              "        \n",
              "  <svg xmlns=\"http://www.w3.org/2000/svg\" height=\"24px\"viewBox=\"0 0 24 24\"\n",
              "       width=\"24px\">\n",
              "    <path d=\"M0 0h24v24H0V0z\" fill=\"none\"/>\n",
              "    <path d=\"M18.56 5.44l.94 2.06.94-2.06 2.06-.94-2.06-.94-.94-2.06-.94 2.06-2.06.94zm-11 1L8.5 8.5l.94-2.06 2.06-.94-2.06-.94L8.5 2.5l-.94 2.06-2.06.94zm10 10l.94 2.06.94-2.06 2.06-.94-2.06-.94-.94-2.06-.94 2.06-2.06.94z\"/><path d=\"M17.41 7.96l-1.37-1.37c-.4-.4-.92-.59-1.43-.59-.52 0-1.04.2-1.43.59L10.3 9.45l-7.72 7.72c-.78.78-.78 2.05 0 2.83L4 21.41c.39.39.9.59 1.41.59.51 0 1.02-.2 1.41-.59l7.78-7.78 2.81-2.81c.8-.78.8-2.07 0-2.86zM5.41 20L4 18.59l7.72-7.72 1.47 1.35L5.41 20z\"/>\n",
              "  </svg>\n",
              "      </button>\n",
              "      \n",
              "  <style>\n",
              "    .colab-df-container {\n",
              "      display:flex;\n",
              "      flex-wrap:wrap;\n",
              "      gap: 12px;\n",
              "    }\n",
              "\n",
              "    .colab-df-convert {\n",
              "      background-color: #E8F0FE;\n",
              "      border: none;\n",
              "      border-radius: 50%;\n",
              "      cursor: pointer;\n",
              "      display: none;\n",
              "      fill: #1967D2;\n",
              "      height: 32px;\n",
              "      padding: 0 0 0 0;\n",
              "      width: 32px;\n",
              "    }\n",
              "\n",
              "    .colab-df-convert:hover {\n",
              "      background-color: #E2EBFA;\n",
              "      box-shadow: 0px 1px 2px rgba(60, 64, 67, 0.3), 0px 1px 3px 1px rgba(60, 64, 67, 0.15);\n",
              "      fill: #174EA6;\n",
              "    }\n",
              "\n",
              "    [theme=dark] .colab-df-convert {\n",
              "      background-color: #3B4455;\n",
              "      fill: #D2E3FC;\n",
              "    }\n",
              "\n",
              "    [theme=dark] .colab-df-convert:hover {\n",
              "      background-color: #434B5C;\n",
              "      box-shadow: 0px 1px 3px 1px rgba(0, 0, 0, 0.15);\n",
              "      filter: drop-shadow(0px 1px 2px rgba(0, 0, 0, 0.3));\n",
              "      fill: #FFFFFF;\n",
              "    }\n",
              "  </style>\n",
              "\n",
              "      <script>\n",
              "        const buttonEl =\n",
              "          document.querySelector('#df-b1de6700-9186-4b1c-9840-d76e8528a49b button.colab-df-convert');\n",
              "        buttonEl.style.display =\n",
              "          google.colab.kernel.accessAllowed ? 'block' : 'none';\n",
              "\n",
              "        async function convertToInteractive(key) {\n",
              "          const element = document.querySelector('#df-b1de6700-9186-4b1c-9840-d76e8528a49b');\n",
              "          const dataTable =\n",
              "            await google.colab.kernel.invokeFunction('convertToInteractive',\n",
              "                                                     [key], {});\n",
              "          if (!dataTable) return;\n",
              "\n",
              "          const docLinkHtml = 'Like what you see? Visit the ' +\n",
              "            '<a target=\"_blank\" href=https://colab.research.google.com/notebooks/data_table.ipynb>data table notebook</a>'\n",
              "            + ' to learn more about interactive tables.';\n",
              "          element.innerHTML = '';\n",
              "          dataTable['output_type'] = 'display_data';\n",
              "          await google.colab.output.renderOutput(dataTable, element);\n",
              "          const docLink = document.createElement('div');\n",
              "          docLink.innerHTML = docLinkHtml;\n",
              "          element.appendChild(docLink);\n",
              "        }\n",
              "      </script>\n",
              "    </div>\n",
              "  </div>\n",
              "  "
            ]
          },
          "metadata": {},
          "execution_count": 34
        }
      ]
    },
    {
      "cell_type": "code",
      "source": [
        "movies.info()"
      ],
      "metadata": {
        "colab": {
          "base_uri": "https://localhost:8080/"
        },
        "id": "06TcTmYr-tk6",
        "outputId": "35ec8102-9838-4277-c4a5-c58029f8dbbd"
      },
      "execution_count": 35,
      "outputs": [
        {
          "output_type": "stream",
          "name": "stdout",
          "text": [
            "<class 'pandas.core.frame.DataFrame'>\n",
            "Int64Index: 7567 entries, 0 to 7661\n",
            "Data columns (total 17 columns):\n",
            " #   Column            Non-Null Count  Dtype  \n",
            "---  ------            --------------  -----  \n",
            " 0   name              7567 non-null   object \n",
            " 1   rating            7567 non-null   object \n",
            " 2   genre             7567 non-null   object \n",
            " 3   year              7567 non-null   int64  \n",
            " 4   released          7567 non-null   object \n",
            " 5   score             7567 non-null   float64\n",
            " 6   votes             7567 non-null   int64  \n",
            " 7   director          7567 non-null   object \n",
            " 8   writer            7567 non-null   object \n",
            " 9   star              7567 non-null   object \n",
            " 10  country           7567 non-null   object \n",
            " 11  budget            7567 non-null   int64  \n",
            " 12  gross             7567 non-null   int64  \n",
            " 13  company           7567 non-null   object \n",
            " 14  runtime           7567 non-null   int64  \n",
            " 15  date of release   7567 non-null   object \n",
            " 16  month of release  7567 non-null   int64  \n",
            "dtypes: float64(1), int64(6), object(10)\n",
            "memory usage: 1.0+ MB\n"
          ]
        }
      ]
    },
    {
      "cell_type": "code",
      "source": [
        "movies['month of release'] = movies['month of release'].astype(str)\n",
        "movies['year'] = movies['year'].astype(str)"
      ],
      "metadata": {
        "id": "5xEDC32u-6aH"
      },
      "execution_count": 36,
      "outputs": []
    },
    {
      "cell_type": "code",
      "source": [
        "movies.info()"
      ],
      "metadata": {
        "colab": {
          "base_uri": "https://localhost:8080/"
        },
        "id": "Y6of7ZaIDzLz",
        "outputId": "94f9b342-f2b8-415c-a825-413c480e9044"
      },
      "execution_count": 37,
      "outputs": [
        {
          "output_type": "stream",
          "name": "stdout",
          "text": [
            "<class 'pandas.core.frame.DataFrame'>\n",
            "Int64Index: 7567 entries, 0 to 7661\n",
            "Data columns (total 17 columns):\n",
            " #   Column            Non-Null Count  Dtype  \n",
            "---  ------            --------------  -----  \n",
            " 0   name              7567 non-null   object \n",
            " 1   rating            7567 non-null   object \n",
            " 2   genre             7567 non-null   object \n",
            " 3   year              7567 non-null   object \n",
            " 4   released          7567 non-null   object \n",
            " 5   score             7567 non-null   float64\n",
            " 6   votes             7567 non-null   int64  \n",
            " 7   director          7567 non-null   object \n",
            " 8   writer            7567 non-null   object \n",
            " 9   star              7567 non-null   object \n",
            " 10  country           7567 non-null   object \n",
            " 11  budget            7567 non-null   int64  \n",
            " 12  gross             7567 non-null   int64  \n",
            " 13  company           7567 non-null   object \n",
            " 14  runtime           7567 non-null   int64  \n",
            " 15  date of release   7567 non-null   object \n",
            " 16  month of release  7567 non-null   object \n",
            "dtypes: float64(1), int64(4), object(12)\n",
            "memory usage: 1.0+ MB\n"
          ]
        }
      ]
    },
    {
      "cell_type": "code",
      "source": [
        "movies['released'] = movies['date of release'] + '/' + movies['month of release'] + '/' + movies['year']"
      ],
      "metadata": {
        "id": "ED5UjVL9D0Qs"
      },
      "execution_count": 38,
      "outputs": []
    },
    {
      "cell_type": "code",
      "source": [
        "movies.head()"
      ],
      "metadata": {
        "colab": {
          "base_uri": "https://localhost:8080/",
          "height": 478
        },
        "id": "ySaLTM9ZD_Ux",
        "outputId": "318dcbe4-b689-46da-9339-be8272c3b09b"
      },
      "execution_count": 39,
      "outputs": [
        {
          "output_type": "execute_result",
          "data": {
            "text/plain": [
              "                                             name rating      genre  year  \\\n",
              "0                                     The Shining      R      Drama  1980   \n",
              "1                                 The Blue Lagoon      R  Adventure  1980   \n",
              "2  Star Wars: Episode V - The Empire Strikes Back     PG     Action  1980   \n",
              "3                                       Airplane!     PG     Comedy  1980   \n",
              "4                                      Caddyshack      R     Comedy  1980   \n",
              "\n",
              "    released  score    votes         director                   writer  \\\n",
              "0  13/6/1980    8.4   927000  Stanley Kubrick             Stephen King   \n",
              "1   2/7/1980    5.8    65000   Randal Kleiser  Henry De Vere Stacpoole   \n",
              "2  20/6/1980    8.7  1200000   Irvin Kershner           Leigh Brackett   \n",
              "3   2/7/1980    7.7   221000     Jim Abrahams             Jim Abrahams   \n",
              "4  25/7/1980    7.3   108000     Harold Ramis       Brian Doyle-Murray   \n",
              "\n",
              "             star         country    budget      gross             company  \\\n",
              "0  Jack Nicholson  United Kingdom  19000000   46998772        Warner Bros.   \n",
              "1  Brooke Shields   United States   4500000   58853106   Columbia Pictures   \n",
              "2     Mark Hamill   United States  18000000  538375067           Lucasfilm   \n",
              "3     Robert Hays   United States   3500000   83453539  Paramount Pictures   \n",
              "4     Chevy Chase   United States   6000000   39846344      Orion Pictures   \n",
              "\n",
              "   runtime date of release month of release  \n",
              "0      146              13                6  \n",
              "1      104               2                7  \n",
              "2      124              20                6  \n",
              "3       88               2                7  \n",
              "4       98              25                7  "
            ],
            "text/html": [
              "\n",
              "  <div id=\"df-1d9a2e29-a19f-4137-81f9-e905776b82f7\">\n",
              "    <div class=\"colab-df-container\">\n",
              "      <div>\n",
              "<style scoped>\n",
              "    .dataframe tbody tr th:only-of-type {\n",
              "        vertical-align: middle;\n",
              "    }\n",
              "\n",
              "    .dataframe tbody tr th {\n",
              "        vertical-align: top;\n",
              "    }\n",
              "\n",
              "    .dataframe thead th {\n",
              "        text-align: right;\n",
              "    }\n",
              "</style>\n",
              "<table border=\"1\" class=\"dataframe\">\n",
              "  <thead>\n",
              "    <tr style=\"text-align: right;\">\n",
              "      <th></th>\n",
              "      <th>name</th>\n",
              "      <th>rating</th>\n",
              "      <th>genre</th>\n",
              "      <th>year</th>\n",
              "      <th>released</th>\n",
              "      <th>score</th>\n",
              "      <th>votes</th>\n",
              "      <th>director</th>\n",
              "      <th>writer</th>\n",
              "      <th>star</th>\n",
              "      <th>country</th>\n",
              "      <th>budget</th>\n",
              "      <th>gross</th>\n",
              "      <th>company</th>\n",
              "      <th>runtime</th>\n",
              "      <th>date of release</th>\n",
              "      <th>month of release</th>\n",
              "    </tr>\n",
              "  </thead>\n",
              "  <tbody>\n",
              "    <tr>\n",
              "      <th>0</th>\n",
              "      <td>The Shining</td>\n",
              "      <td>R</td>\n",
              "      <td>Drama</td>\n",
              "      <td>1980</td>\n",
              "      <td>13/6/1980</td>\n",
              "      <td>8.4</td>\n",
              "      <td>927000</td>\n",
              "      <td>Stanley Kubrick</td>\n",
              "      <td>Stephen King</td>\n",
              "      <td>Jack Nicholson</td>\n",
              "      <td>United Kingdom</td>\n",
              "      <td>19000000</td>\n",
              "      <td>46998772</td>\n",
              "      <td>Warner Bros.</td>\n",
              "      <td>146</td>\n",
              "      <td>13</td>\n",
              "      <td>6</td>\n",
              "    </tr>\n",
              "    <tr>\n",
              "      <th>1</th>\n",
              "      <td>The Blue Lagoon</td>\n",
              "      <td>R</td>\n",
              "      <td>Adventure</td>\n",
              "      <td>1980</td>\n",
              "      <td>2/7/1980</td>\n",
              "      <td>5.8</td>\n",
              "      <td>65000</td>\n",
              "      <td>Randal Kleiser</td>\n",
              "      <td>Henry De Vere Stacpoole</td>\n",
              "      <td>Brooke Shields</td>\n",
              "      <td>United States</td>\n",
              "      <td>4500000</td>\n",
              "      <td>58853106</td>\n",
              "      <td>Columbia Pictures</td>\n",
              "      <td>104</td>\n",
              "      <td>2</td>\n",
              "      <td>7</td>\n",
              "    </tr>\n",
              "    <tr>\n",
              "      <th>2</th>\n",
              "      <td>Star Wars: Episode V - The Empire Strikes Back</td>\n",
              "      <td>PG</td>\n",
              "      <td>Action</td>\n",
              "      <td>1980</td>\n",
              "      <td>20/6/1980</td>\n",
              "      <td>8.7</td>\n",
              "      <td>1200000</td>\n",
              "      <td>Irvin Kershner</td>\n",
              "      <td>Leigh Brackett</td>\n",
              "      <td>Mark Hamill</td>\n",
              "      <td>United States</td>\n",
              "      <td>18000000</td>\n",
              "      <td>538375067</td>\n",
              "      <td>Lucasfilm</td>\n",
              "      <td>124</td>\n",
              "      <td>20</td>\n",
              "      <td>6</td>\n",
              "    </tr>\n",
              "    <tr>\n",
              "      <th>3</th>\n",
              "      <td>Airplane!</td>\n",
              "      <td>PG</td>\n",
              "      <td>Comedy</td>\n",
              "      <td>1980</td>\n",
              "      <td>2/7/1980</td>\n",
              "      <td>7.7</td>\n",
              "      <td>221000</td>\n",
              "      <td>Jim Abrahams</td>\n",
              "      <td>Jim Abrahams</td>\n",
              "      <td>Robert Hays</td>\n",
              "      <td>United States</td>\n",
              "      <td>3500000</td>\n",
              "      <td>83453539</td>\n",
              "      <td>Paramount Pictures</td>\n",
              "      <td>88</td>\n",
              "      <td>2</td>\n",
              "      <td>7</td>\n",
              "    </tr>\n",
              "    <tr>\n",
              "      <th>4</th>\n",
              "      <td>Caddyshack</td>\n",
              "      <td>R</td>\n",
              "      <td>Comedy</td>\n",
              "      <td>1980</td>\n",
              "      <td>25/7/1980</td>\n",
              "      <td>7.3</td>\n",
              "      <td>108000</td>\n",
              "      <td>Harold Ramis</td>\n",
              "      <td>Brian Doyle-Murray</td>\n",
              "      <td>Chevy Chase</td>\n",
              "      <td>United States</td>\n",
              "      <td>6000000</td>\n",
              "      <td>39846344</td>\n",
              "      <td>Orion Pictures</td>\n",
              "      <td>98</td>\n",
              "      <td>25</td>\n",
              "      <td>7</td>\n",
              "    </tr>\n",
              "  </tbody>\n",
              "</table>\n",
              "</div>\n",
              "      <button class=\"colab-df-convert\" onclick=\"convertToInteractive('df-1d9a2e29-a19f-4137-81f9-e905776b82f7')\"\n",
              "              title=\"Convert this dataframe to an interactive table.\"\n",
              "              style=\"display:none;\">\n",
              "        \n",
              "  <svg xmlns=\"http://www.w3.org/2000/svg\" height=\"24px\"viewBox=\"0 0 24 24\"\n",
              "       width=\"24px\">\n",
              "    <path d=\"M0 0h24v24H0V0z\" fill=\"none\"/>\n",
              "    <path d=\"M18.56 5.44l.94 2.06.94-2.06 2.06-.94-2.06-.94-.94-2.06-.94 2.06-2.06.94zm-11 1L8.5 8.5l.94-2.06 2.06-.94-2.06-.94L8.5 2.5l-.94 2.06-2.06.94zm10 10l.94 2.06.94-2.06 2.06-.94-2.06-.94-.94-2.06-.94 2.06-2.06.94z\"/><path d=\"M17.41 7.96l-1.37-1.37c-.4-.4-.92-.59-1.43-.59-.52 0-1.04.2-1.43.59L10.3 9.45l-7.72 7.72c-.78.78-.78 2.05 0 2.83L4 21.41c.39.39.9.59 1.41.59.51 0 1.02-.2 1.41-.59l7.78-7.78 2.81-2.81c.8-.78.8-2.07 0-2.86zM5.41 20L4 18.59l7.72-7.72 1.47 1.35L5.41 20z\"/>\n",
              "  </svg>\n",
              "      </button>\n",
              "      \n",
              "  <style>\n",
              "    .colab-df-container {\n",
              "      display:flex;\n",
              "      flex-wrap:wrap;\n",
              "      gap: 12px;\n",
              "    }\n",
              "\n",
              "    .colab-df-convert {\n",
              "      background-color: #E8F0FE;\n",
              "      border: none;\n",
              "      border-radius: 50%;\n",
              "      cursor: pointer;\n",
              "      display: none;\n",
              "      fill: #1967D2;\n",
              "      height: 32px;\n",
              "      padding: 0 0 0 0;\n",
              "      width: 32px;\n",
              "    }\n",
              "\n",
              "    .colab-df-convert:hover {\n",
              "      background-color: #E2EBFA;\n",
              "      box-shadow: 0px 1px 2px rgba(60, 64, 67, 0.3), 0px 1px 3px 1px rgba(60, 64, 67, 0.15);\n",
              "      fill: #174EA6;\n",
              "    }\n",
              "\n",
              "    [theme=dark] .colab-df-convert {\n",
              "      background-color: #3B4455;\n",
              "      fill: #D2E3FC;\n",
              "    }\n",
              "\n",
              "    [theme=dark] .colab-df-convert:hover {\n",
              "      background-color: #434B5C;\n",
              "      box-shadow: 0px 1px 3px 1px rgba(0, 0, 0, 0.15);\n",
              "      filter: drop-shadow(0px 1px 2px rgba(0, 0, 0, 0.3));\n",
              "      fill: #FFFFFF;\n",
              "    }\n",
              "  </style>\n",
              "\n",
              "      <script>\n",
              "        const buttonEl =\n",
              "          document.querySelector('#df-1d9a2e29-a19f-4137-81f9-e905776b82f7 button.colab-df-convert');\n",
              "        buttonEl.style.display =\n",
              "          google.colab.kernel.accessAllowed ? 'block' : 'none';\n",
              "\n",
              "        async function convertToInteractive(key) {\n",
              "          const element = document.querySelector('#df-1d9a2e29-a19f-4137-81f9-e905776b82f7');\n",
              "          const dataTable =\n",
              "            await google.colab.kernel.invokeFunction('convertToInteractive',\n",
              "                                                     [key], {});\n",
              "          if (!dataTable) return;\n",
              "\n",
              "          const docLinkHtml = 'Like what you see? Visit the ' +\n",
              "            '<a target=\"_blank\" href=https://colab.research.google.com/notebooks/data_table.ipynb>data table notebook</a>'\n",
              "            + ' to learn more about interactive tables.';\n",
              "          element.innerHTML = '';\n",
              "          dataTable['output_type'] = 'display_data';\n",
              "          await google.colab.output.renderOutput(dataTable, element);\n",
              "          const docLink = document.createElement('div');\n",
              "          docLink.innerHTML = docLinkHtml;\n",
              "          element.appendChild(docLink);\n",
              "        }\n",
              "      </script>\n",
              "    </div>\n",
              "  </div>\n",
              "  "
            ]
          },
          "metadata": {},
          "execution_count": 39
        }
      ]
    },
    {
      "cell_type": "code",
      "source": [
        "movies.drop(columns=['year', 'date of release', 'month of release'], inplace=True)\n",
        "movies.head()"
      ],
      "metadata": {
        "colab": {
          "base_uri": "https://localhost:8080/",
          "height": 372
        },
        "id": "Wx4Ojgd0EF5V",
        "outputId": "c57547e0-c838-43c3-f393-10586d2d3cbf"
      },
      "execution_count": 40,
      "outputs": [
        {
          "output_type": "execute_result",
          "data": {
            "text/plain": [
              "                                             name rating      genre  \\\n",
              "0                                     The Shining      R      Drama   \n",
              "1                                 The Blue Lagoon      R  Adventure   \n",
              "2  Star Wars: Episode V - The Empire Strikes Back     PG     Action   \n",
              "3                                       Airplane!     PG     Comedy   \n",
              "4                                      Caddyshack      R     Comedy   \n",
              "\n",
              "    released  score    votes         director                   writer  \\\n",
              "0  13/6/1980    8.4   927000  Stanley Kubrick             Stephen King   \n",
              "1   2/7/1980    5.8    65000   Randal Kleiser  Henry De Vere Stacpoole   \n",
              "2  20/6/1980    8.7  1200000   Irvin Kershner           Leigh Brackett   \n",
              "3   2/7/1980    7.7   221000     Jim Abrahams             Jim Abrahams   \n",
              "4  25/7/1980    7.3   108000     Harold Ramis       Brian Doyle-Murray   \n",
              "\n",
              "             star         country    budget      gross             company  \\\n",
              "0  Jack Nicholson  United Kingdom  19000000   46998772        Warner Bros.   \n",
              "1  Brooke Shields   United States   4500000   58853106   Columbia Pictures   \n",
              "2     Mark Hamill   United States  18000000  538375067           Lucasfilm   \n",
              "3     Robert Hays   United States   3500000   83453539  Paramount Pictures   \n",
              "4     Chevy Chase   United States   6000000   39846344      Orion Pictures   \n",
              "\n",
              "   runtime  \n",
              "0      146  \n",
              "1      104  \n",
              "2      124  \n",
              "3       88  \n",
              "4       98  "
            ],
            "text/html": [
              "\n",
              "  <div id=\"df-ed9eae68-6694-4441-be6d-1137011408e9\">\n",
              "    <div class=\"colab-df-container\">\n",
              "      <div>\n",
              "<style scoped>\n",
              "    .dataframe tbody tr th:only-of-type {\n",
              "        vertical-align: middle;\n",
              "    }\n",
              "\n",
              "    .dataframe tbody tr th {\n",
              "        vertical-align: top;\n",
              "    }\n",
              "\n",
              "    .dataframe thead th {\n",
              "        text-align: right;\n",
              "    }\n",
              "</style>\n",
              "<table border=\"1\" class=\"dataframe\">\n",
              "  <thead>\n",
              "    <tr style=\"text-align: right;\">\n",
              "      <th></th>\n",
              "      <th>name</th>\n",
              "      <th>rating</th>\n",
              "      <th>genre</th>\n",
              "      <th>released</th>\n",
              "      <th>score</th>\n",
              "      <th>votes</th>\n",
              "      <th>director</th>\n",
              "      <th>writer</th>\n",
              "      <th>star</th>\n",
              "      <th>country</th>\n",
              "      <th>budget</th>\n",
              "      <th>gross</th>\n",
              "      <th>company</th>\n",
              "      <th>runtime</th>\n",
              "    </tr>\n",
              "  </thead>\n",
              "  <tbody>\n",
              "    <tr>\n",
              "      <th>0</th>\n",
              "      <td>The Shining</td>\n",
              "      <td>R</td>\n",
              "      <td>Drama</td>\n",
              "      <td>13/6/1980</td>\n",
              "      <td>8.4</td>\n",
              "      <td>927000</td>\n",
              "      <td>Stanley Kubrick</td>\n",
              "      <td>Stephen King</td>\n",
              "      <td>Jack Nicholson</td>\n",
              "      <td>United Kingdom</td>\n",
              "      <td>19000000</td>\n",
              "      <td>46998772</td>\n",
              "      <td>Warner Bros.</td>\n",
              "      <td>146</td>\n",
              "    </tr>\n",
              "    <tr>\n",
              "      <th>1</th>\n",
              "      <td>The Blue Lagoon</td>\n",
              "      <td>R</td>\n",
              "      <td>Adventure</td>\n",
              "      <td>2/7/1980</td>\n",
              "      <td>5.8</td>\n",
              "      <td>65000</td>\n",
              "      <td>Randal Kleiser</td>\n",
              "      <td>Henry De Vere Stacpoole</td>\n",
              "      <td>Brooke Shields</td>\n",
              "      <td>United States</td>\n",
              "      <td>4500000</td>\n",
              "      <td>58853106</td>\n",
              "      <td>Columbia Pictures</td>\n",
              "      <td>104</td>\n",
              "    </tr>\n",
              "    <tr>\n",
              "      <th>2</th>\n",
              "      <td>Star Wars: Episode V - The Empire Strikes Back</td>\n",
              "      <td>PG</td>\n",
              "      <td>Action</td>\n",
              "      <td>20/6/1980</td>\n",
              "      <td>8.7</td>\n",
              "      <td>1200000</td>\n",
              "      <td>Irvin Kershner</td>\n",
              "      <td>Leigh Brackett</td>\n",
              "      <td>Mark Hamill</td>\n",
              "      <td>United States</td>\n",
              "      <td>18000000</td>\n",
              "      <td>538375067</td>\n",
              "      <td>Lucasfilm</td>\n",
              "      <td>124</td>\n",
              "    </tr>\n",
              "    <tr>\n",
              "      <th>3</th>\n",
              "      <td>Airplane!</td>\n",
              "      <td>PG</td>\n",
              "      <td>Comedy</td>\n",
              "      <td>2/7/1980</td>\n",
              "      <td>7.7</td>\n",
              "      <td>221000</td>\n",
              "      <td>Jim Abrahams</td>\n",
              "      <td>Jim Abrahams</td>\n",
              "      <td>Robert Hays</td>\n",
              "      <td>United States</td>\n",
              "      <td>3500000</td>\n",
              "      <td>83453539</td>\n",
              "      <td>Paramount Pictures</td>\n",
              "      <td>88</td>\n",
              "    </tr>\n",
              "    <tr>\n",
              "      <th>4</th>\n",
              "      <td>Caddyshack</td>\n",
              "      <td>R</td>\n",
              "      <td>Comedy</td>\n",
              "      <td>25/7/1980</td>\n",
              "      <td>7.3</td>\n",
              "      <td>108000</td>\n",
              "      <td>Harold Ramis</td>\n",
              "      <td>Brian Doyle-Murray</td>\n",
              "      <td>Chevy Chase</td>\n",
              "      <td>United States</td>\n",
              "      <td>6000000</td>\n",
              "      <td>39846344</td>\n",
              "      <td>Orion Pictures</td>\n",
              "      <td>98</td>\n",
              "    </tr>\n",
              "  </tbody>\n",
              "</table>\n",
              "</div>\n",
              "      <button class=\"colab-df-convert\" onclick=\"convertToInteractive('df-ed9eae68-6694-4441-be6d-1137011408e9')\"\n",
              "              title=\"Convert this dataframe to an interactive table.\"\n",
              "              style=\"display:none;\">\n",
              "        \n",
              "  <svg xmlns=\"http://www.w3.org/2000/svg\" height=\"24px\"viewBox=\"0 0 24 24\"\n",
              "       width=\"24px\">\n",
              "    <path d=\"M0 0h24v24H0V0z\" fill=\"none\"/>\n",
              "    <path d=\"M18.56 5.44l.94 2.06.94-2.06 2.06-.94-2.06-.94-.94-2.06-.94 2.06-2.06.94zm-11 1L8.5 8.5l.94-2.06 2.06-.94-2.06-.94L8.5 2.5l-.94 2.06-2.06.94zm10 10l.94 2.06.94-2.06 2.06-.94-2.06-.94-.94-2.06-.94 2.06-2.06.94z\"/><path d=\"M17.41 7.96l-1.37-1.37c-.4-.4-.92-.59-1.43-.59-.52 0-1.04.2-1.43.59L10.3 9.45l-7.72 7.72c-.78.78-.78 2.05 0 2.83L4 21.41c.39.39.9.59 1.41.59.51 0 1.02-.2 1.41-.59l7.78-7.78 2.81-2.81c.8-.78.8-2.07 0-2.86zM5.41 20L4 18.59l7.72-7.72 1.47 1.35L5.41 20z\"/>\n",
              "  </svg>\n",
              "      </button>\n",
              "      \n",
              "  <style>\n",
              "    .colab-df-container {\n",
              "      display:flex;\n",
              "      flex-wrap:wrap;\n",
              "      gap: 12px;\n",
              "    }\n",
              "\n",
              "    .colab-df-convert {\n",
              "      background-color: #E8F0FE;\n",
              "      border: none;\n",
              "      border-radius: 50%;\n",
              "      cursor: pointer;\n",
              "      display: none;\n",
              "      fill: #1967D2;\n",
              "      height: 32px;\n",
              "      padding: 0 0 0 0;\n",
              "      width: 32px;\n",
              "    }\n",
              "\n",
              "    .colab-df-convert:hover {\n",
              "      background-color: #E2EBFA;\n",
              "      box-shadow: 0px 1px 2px rgba(60, 64, 67, 0.3), 0px 1px 3px 1px rgba(60, 64, 67, 0.15);\n",
              "      fill: #174EA6;\n",
              "    }\n",
              "\n",
              "    [theme=dark] .colab-df-convert {\n",
              "      background-color: #3B4455;\n",
              "      fill: #D2E3FC;\n",
              "    }\n",
              "\n",
              "    [theme=dark] .colab-df-convert:hover {\n",
              "      background-color: #434B5C;\n",
              "      box-shadow: 0px 1px 3px 1px rgba(0, 0, 0, 0.15);\n",
              "      filter: drop-shadow(0px 1px 2px rgba(0, 0, 0, 0.3));\n",
              "      fill: #FFFFFF;\n",
              "    }\n",
              "  </style>\n",
              "\n",
              "      <script>\n",
              "        const buttonEl =\n",
              "          document.querySelector('#df-ed9eae68-6694-4441-be6d-1137011408e9 button.colab-df-convert');\n",
              "        buttonEl.style.display =\n",
              "          google.colab.kernel.accessAllowed ? 'block' : 'none';\n",
              "\n",
              "        async function convertToInteractive(key) {\n",
              "          const element = document.querySelector('#df-ed9eae68-6694-4441-be6d-1137011408e9');\n",
              "          const dataTable =\n",
              "            await google.colab.kernel.invokeFunction('convertToInteractive',\n",
              "                                                     [key], {});\n",
              "          if (!dataTable) return;\n",
              "\n",
              "          const docLinkHtml = 'Like what you see? Visit the ' +\n",
              "            '<a target=\"_blank\" href=https://colab.research.google.com/notebooks/data_table.ipynb>data table notebook</a>'\n",
              "            + ' to learn more about interactive tables.';\n",
              "          element.innerHTML = '';\n",
              "          dataTable['output_type'] = 'display_data';\n",
              "          await google.colab.output.renderOutput(dataTable, element);\n",
              "          const docLink = document.createElement('div');\n",
              "          docLink.innerHTML = docLinkHtml;\n",
              "          element.appendChild(docLink);\n",
              "        }\n",
              "      </script>\n",
              "    </div>\n",
              "  </div>\n",
              "  "
            ]
          },
          "metadata": {},
          "execution_count": 40
        }
      ]
    },
    {
      "cell_type": "code",
      "source": [
        "movies['released'].str.split('/').str[0].value_counts()"
      ],
      "metadata": {
        "colab": {
          "base_uri": "https://localhost:8080/"
        },
        "id": "rAK_s0B5EP6P",
        "outputId": "8e3ae6ee-8039-440e-f515-35b4d3447428"
      },
      "execution_count": 41,
      "outputs": [
        {
          "output_type": "execute_result",
          "data": {
            "text/plain": [
              "25      358\n",
              "21      303\n",
              "19      280\n",
              "22      277\n",
              "20      274\n",
              "18      272\n",
              "16      262\n",
              "13      257\n",
              "17      257\n",
              "26      256\n",
              "14      256\n",
              "12      255\n",
              "9       253\n",
              "10      253\n",
              "11      247\n",
              "1       241\n",
              "15      240\n",
              "24      235\n",
              "23      229\n",
              "6       229\n",
              "3       229\n",
              "30      224\n",
              "8       223\n",
              "7       220\n",
              "27      218\n",
              "2       214\n",
              "28      211\n",
              "4       208\n",
              "5       207\n",
              "29      202\n",
              "31      131\n",
              "1991     13\n",
              "1988      6\n",
              "1990      4\n",
              "1994      4\n",
              "1992      3\n",
              "1987      3\n",
              "1986      3\n",
              "1989      3\n",
              "1983      2\n",
              "1982      1\n",
              "1984      1\n",
              "1985      1\n",
              "2010      1\n",
              "2011      1\n",
              "Name: released, dtype: int64"
            ]
          },
          "metadata": {},
          "execution_count": 41
        }
      ]
    },
    {
      "cell_type": "markdown",
      "source": [
        "There are some impossible values, so we will remove those."
      ],
      "metadata": {
        "id": "oHe3hdd_EnvS"
      }
    },
    {
      "cell_type": "code",
      "source": [
        "movies['released'].str.split('/').str[0].astype(int) > 1990"
      ],
      "metadata": {
        "colab": {
          "base_uri": "https://localhost:8080/"
        },
        "id": "Vhm3wtO6Fnv-",
        "outputId": "028e726d-9a58-4705-dc46-f2870dc68458"
      },
      "execution_count": 42,
      "outputs": [
        {
          "output_type": "execute_result",
          "data": {
            "text/plain": [
              "0       False\n",
              "1       False\n",
              "2       False\n",
              "3       False\n",
              "4       False\n",
              "        ...  \n",
              "7653    False\n",
              "7656    False\n",
              "7658    False\n",
              "7659    False\n",
              "7661    False\n",
              "Name: released, Length: 7567, dtype: bool"
            ]
          },
          "metadata": {},
          "execution_count": 42
        }
      ]
    },
    {
      "cell_type": "code",
      "source": [
        "movies.drop(movies[movies['released'].str.split('/').str[0].astype(int) > 1980].index, inplace=True)"
      ],
      "metadata": {
        "id": "dv6GuDmmFTV-"
      },
      "execution_count": 43,
      "outputs": []
    },
    {
      "cell_type": "markdown",
      "source": [
        "Now we're ready to convert `released` to `datetime` type."
      ],
      "metadata": {
        "id": "nQl9OdYXF-Ur"
      }
    },
    {
      "cell_type": "code",
      "source": [
        "movies['released'] = pd.to_datetime(movies['released'], infer_datetime_format=True, errors='coerce')"
      ],
      "metadata": {
        "id": "W8ULTOdhGZ8L"
      },
      "execution_count": 44,
      "outputs": []
    },
    {
      "cell_type": "markdown",
      "source": [
        "FINALLY DONE WITH THAT!"
      ],
      "metadata": {
        "id": "H35JxI32GgHf"
      }
    },
    {
      "cell_type": "code",
      "source": [
        "movies.head()"
      ],
      "metadata": {
        "colab": {
          "base_uri": "https://localhost:8080/",
          "height": 372
        },
        "id": "h0smjyb4HVmQ",
        "outputId": "d550aba2-0463-446f-89e9-9ea818c658ee"
      },
      "execution_count": 45,
      "outputs": [
        {
          "output_type": "execute_result",
          "data": {
            "text/plain": [
              "                                             name rating      genre  \\\n",
              "0                                     The Shining      R      Drama   \n",
              "1                                 The Blue Lagoon      R  Adventure   \n",
              "2  Star Wars: Episode V - The Empire Strikes Back     PG     Action   \n",
              "3                                       Airplane!     PG     Comedy   \n",
              "4                                      Caddyshack      R     Comedy   \n",
              "\n",
              "    released  score    votes         director                   writer  \\\n",
              "0 1980-06-13    8.4   927000  Stanley Kubrick             Stephen King   \n",
              "1 1980-07-02    5.8    65000   Randal Kleiser  Henry De Vere Stacpoole   \n",
              "2 1980-06-20    8.7  1200000   Irvin Kershner           Leigh Brackett   \n",
              "3 1980-07-02    7.7   221000     Jim Abrahams             Jim Abrahams   \n",
              "4 1980-07-25    7.3   108000     Harold Ramis       Brian Doyle-Murray   \n",
              "\n",
              "             star         country    budget      gross             company  \\\n",
              "0  Jack Nicholson  United Kingdom  19000000   46998772        Warner Bros.   \n",
              "1  Brooke Shields   United States   4500000   58853106   Columbia Pictures   \n",
              "2     Mark Hamill   United States  18000000  538375067           Lucasfilm   \n",
              "3     Robert Hays   United States   3500000   83453539  Paramount Pictures   \n",
              "4     Chevy Chase   United States   6000000   39846344      Orion Pictures   \n",
              "\n",
              "   runtime  \n",
              "0      146  \n",
              "1      104  \n",
              "2      124  \n",
              "3       88  \n",
              "4       98  "
            ],
            "text/html": [
              "\n",
              "  <div id=\"df-ea14b198-6939-4806-a6ff-5f0205279698\">\n",
              "    <div class=\"colab-df-container\">\n",
              "      <div>\n",
              "<style scoped>\n",
              "    .dataframe tbody tr th:only-of-type {\n",
              "        vertical-align: middle;\n",
              "    }\n",
              "\n",
              "    .dataframe tbody tr th {\n",
              "        vertical-align: top;\n",
              "    }\n",
              "\n",
              "    .dataframe thead th {\n",
              "        text-align: right;\n",
              "    }\n",
              "</style>\n",
              "<table border=\"1\" class=\"dataframe\">\n",
              "  <thead>\n",
              "    <tr style=\"text-align: right;\">\n",
              "      <th></th>\n",
              "      <th>name</th>\n",
              "      <th>rating</th>\n",
              "      <th>genre</th>\n",
              "      <th>released</th>\n",
              "      <th>score</th>\n",
              "      <th>votes</th>\n",
              "      <th>director</th>\n",
              "      <th>writer</th>\n",
              "      <th>star</th>\n",
              "      <th>country</th>\n",
              "      <th>budget</th>\n",
              "      <th>gross</th>\n",
              "      <th>company</th>\n",
              "      <th>runtime</th>\n",
              "    </tr>\n",
              "  </thead>\n",
              "  <tbody>\n",
              "    <tr>\n",
              "      <th>0</th>\n",
              "      <td>The Shining</td>\n",
              "      <td>R</td>\n",
              "      <td>Drama</td>\n",
              "      <td>1980-06-13</td>\n",
              "      <td>8.4</td>\n",
              "      <td>927000</td>\n",
              "      <td>Stanley Kubrick</td>\n",
              "      <td>Stephen King</td>\n",
              "      <td>Jack Nicholson</td>\n",
              "      <td>United Kingdom</td>\n",
              "      <td>19000000</td>\n",
              "      <td>46998772</td>\n",
              "      <td>Warner Bros.</td>\n",
              "      <td>146</td>\n",
              "    </tr>\n",
              "    <tr>\n",
              "      <th>1</th>\n",
              "      <td>The Blue Lagoon</td>\n",
              "      <td>R</td>\n",
              "      <td>Adventure</td>\n",
              "      <td>1980-07-02</td>\n",
              "      <td>5.8</td>\n",
              "      <td>65000</td>\n",
              "      <td>Randal Kleiser</td>\n",
              "      <td>Henry De Vere Stacpoole</td>\n",
              "      <td>Brooke Shields</td>\n",
              "      <td>United States</td>\n",
              "      <td>4500000</td>\n",
              "      <td>58853106</td>\n",
              "      <td>Columbia Pictures</td>\n",
              "      <td>104</td>\n",
              "    </tr>\n",
              "    <tr>\n",
              "      <th>2</th>\n",
              "      <td>Star Wars: Episode V - The Empire Strikes Back</td>\n",
              "      <td>PG</td>\n",
              "      <td>Action</td>\n",
              "      <td>1980-06-20</td>\n",
              "      <td>8.7</td>\n",
              "      <td>1200000</td>\n",
              "      <td>Irvin Kershner</td>\n",
              "      <td>Leigh Brackett</td>\n",
              "      <td>Mark Hamill</td>\n",
              "      <td>United States</td>\n",
              "      <td>18000000</td>\n",
              "      <td>538375067</td>\n",
              "      <td>Lucasfilm</td>\n",
              "      <td>124</td>\n",
              "    </tr>\n",
              "    <tr>\n",
              "      <th>3</th>\n",
              "      <td>Airplane!</td>\n",
              "      <td>PG</td>\n",
              "      <td>Comedy</td>\n",
              "      <td>1980-07-02</td>\n",
              "      <td>7.7</td>\n",
              "      <td>221000</td>\n",
              "      <td>Jim Abrahams</td>\n",
              "      <td>Jim Abrahams</td>\n",
              "      <td>Robert Hays</td>\n",
              "      <td>United States</td>\n",
              "      <td>3500000</td>\n",
              "      <td>83453539</td>\n",
              "      <td>Paramount Pictures</td>\n",
              "      <td>88</td>\n",
              "    </tr>\n",
              "    <tr>\n",
              "      <th>4</th>\n",
              "      <td>Caddyshack</td>\n",
              "      <td>R</td>\n",
              "      <td>Comedy</td>\n",
              "      <td>1980-07-25</td>\n",
              "      <td>7.3</td>\n",
              "      <td>108000</td>\n",
              "      <td>Harold Ramis</td>\n",
              "      <td>Brian Doyle-Murray</td>\n",
              "      <td>Chevy Chase</td>\n",
              "      <td>United States</td>\n",
              "      <td>6000000</td>\n",
              "      <td>39846344</td>\n",
              "      <td>Orion Pictures</td>\n",
              "      <td>98</td>\n",
              "    </tr>\n",
              "  </tbody>\n",
              "</table>\n",
              "</div>\n",
              "      <button class=\"colab-df-convert\" onclick=\"convertToInteractive('df-ea14b198-6939-4806-a6ff-5f0205279698')\"\n",
              "              title=\"Convert this dataframe to an interactive table.\"\n",
              "              style=\"display:none;\">\n",
              "        \n",
              "  <svg xmlns=\"http://www.w3.org/2000/svg\" height=\"24px\"viewBox=\"0 0 24 24\"\n",
              "       width=\"24px\">\n",
              "    <path d=\"M0 0h24v24H0V0z\" fill=\"none\"/>\n",
              "    <path d=\"M18.56 5.44l.94 2.06.94-2.06 2.06-.94-2.06-.94-.94-2.06-.94 2.06-2.06.94zm-11 1L8.5 8.5l.94-2.06 2.06-.94-2.06-.94L8.5 2.5l-.94 2.06-2.06.94zm10 10l.94 2.06.94-2.06 2.06-.94-2.06-.94-.94-2.06-.94 2.06-2.06.94z\"/><path d=\"M17.41 7.96l-1.37-1.37c-.4-.4-.92-.59-1.43-.59-.52 0-1.04.2-1.43.59L10.3 9.45l-7.72 7.72c-.78.78-.78 2.05 0 2.83L4 21.41c.39.39.9.59 1.41.59.51 0 1.02-.2 1.41-.59l7.78-7.78 2.81-2.81c.8-.78.8-2.07 0-2.86zM5.41 20L4 18.59l7.72-7.72 1.47 1.35L5.41 20z\"/>\n",
              "  </svg>\n",
              "      </button>\n",
              "      \n",
              "  <style>\n",
              "    .colab-df-container {\n",
              "      display:flex;\n",
              "      flex-wrap:wrap;\n",
              "      gap: 12px;\n",
              "    }\n",
              "\n",
              "    .colab-df-convert {\n",
              "      background-color: #E8F0FE;\n",
              "      border: none;\n",
              "      border-radius: 50%;\n",
              "      cursor: pointer;\n",
              "      display: none;\n",
              "      fill: #1967D2;\n",
              "      height: 32px;\n",
              "      padding: 0 0 0 0;\n",
              "      width: 32px;\n",
              "    }\n",
              "\n",
              "    .colab-df-convert:hover {\n",
              "      background-color: #E2EBFA;\n",
              "      box-shadow: 0px 1px 2px rgba(60, 64, 67, 0.3), 0px 1px 3px 1px rgba(60, 64, 67, 0.15);\n",
              "      fill: #174EA6;\n",
              "    }\n",
              "\n",
              "    [theme=dark] .colab-df-convert {\n",
              "      background-color: #3B4455;\n",
              "      fill: #D2E3FC;\n",
              "    }\n",
              "\n",
              "    [theme=dark] .colab-df-convert:hover {\n",
              "      background-color: #434B5C;\n",
              "      box-shadow: 0px 1px 3px 1px rgba(0, 0, 0, 0.15);\n",
              "      filter: drop-shadow(0px 1px 2px rgba(0, 0, 0, 0.3));\n",
              "      fill: #FFFFFF;\n",
              "    }\n",
              "  </style>\n",
              "\n",
              "      <script>\n",
              "        const buttonEl =\n",
              "          document.querySelector('#df-ea14b198-6939-4806-a6ff-5f0205279698 button.colab-df-convert');\n",
              "        buttonEl.style.display =\n",
              "          google.colab.kernel.accessAllowed ? 'block' : 'none';\n",
              "\n",
              "        async function convertToInteractive(key) {\n",
              "          const element = document.querySelector('#df-ea14b198-6939-4806-a6ff-5f0205279698');\n",
              "          const dataTable =\n",
              "            await google.colab.kernel.invokeFunction('convertToInteractive',\n",
              "                                                     [key], {});\n",
              "          if (!dataTable) return;\n",
              "\n",
              "          const docLinkHtml = 'Like what you see? Visit the ' +\n",
              "            '<a target=\"_blank\" href=https://colab.research.google.com/notebooks/data_table.ipynb>data table notebook</a>'\n",
              "            + ' to learn more about interactive tables.';\n",
              "          element.innerHTML = '';\n",
              "          dataTable['output_type'] = 'display_data';\n",
              "          await google.colab.output.renderOutput(dataTable, element);\n",
              "          const docLink = document.createElement('div');\n",
              "          docLink.innerHTML = docLinkHtml;\n",
              "          element.appendChild(docLink);\n",
              "        }\n",
              "      </script>\n",
              "    </div>\n",
              "  </div>\n",
              "  "
            ]
          },
          "metadata": {},
          "execution_count": 45
        }
      ]
    },
    {
      "cell_type": "code",
      "source": [
        "movies.info()"
      ],
      "metadata": {
        "colab": {
          "base_uri": "https://localhost:8080/"
        },
        "id": "oB11vhoDJh1C",
        "outputId": "8226c2d4-7986-4aa4-9219-f8f08f737104"
      },
      "execution_count": 46,
      "outputs": [
        {
          "output_type": "stream",
          "name": "stdout",
          "text": [
            "<class 'pandas.core.frame.DataFrame'>\n",
            "Int64Index: 7521 entries, 0 to 7661\n",
            "Data columns (total 14 columns):\n",
            " #   Column    Non-Null Count  Dtype         \n",
            "---  ------    --------------  -----         \n",
            " 0   name      7521 non-null   object        \n",
            " 1   rating    7521 non-null   object        \n",
            " 2   genre     7521 non-null   object        \n",
            " 3   released  7520 non-null   datetime64[ns]\n",
            " 4   score     7521 non-null   float64       \n",
            " 5   votes     7521 non-null   int64         \n",
            " 6   director  7521 non-null   object        \n",
            " 7   writer    7521 non-null   object        \n",
            " 8   star      7521 non-null   object        \n",
            " 9   country   7521 non-null   object        \n",
            " 10  budget    7521 non-null   int64         \n",
            " 11  gross     7521 non-null   int64         \n",
            " 12  company   7521 non-null   object        \n",
            " 13  runtime   7521 non-null   int64         \n",
            "dtypes: datetime64[ns](1), float64(1), int64(4), object(8)\n",
            "memory usage: 881.4+ KB\n"
          ]
        }
      ]
    },
    {
      "cell_type": "code",
      "source": [
        "movies['released'].dt.year.isnull().sum()"
      ],
      "metadata": {
        "colab": {
          "base_uri": "https://localhost:8080/"
        },
        "id": "Jwf3KmoegYuu",
        "outputId": "fe9015a9-da3f-4c02-a61a-02e074615a95"
      },
      "execution_count": 65,
      "outputs": [
        {
          "output_type": "execute_result",
          "data": {
            "text/plain": [
              "1"
            ]
          },
          "metadata": {},
          "execution_count": 65
        }
      ]
    },
    {
      "cell_type": "markdown",
      "source": [
        "There's still one row with a null value for the year, so let's get rid of that."
      ],
      "metadata": {
        "id": "Ax3BHmz3gaEN"
      }
    },
    {
      "cell_type": "code",
      "source": [
        "movies.drop(movies[movies['released'].dt.year.isnull()].index, inplace=True)"
      ],
      "metadata": {
        "id": "4Bya68nAgfSW"
      },
      "execution_count": 67,
      "outputs": []
    },
    {
      "cell_type": "markdown",
      "source": [
        "We will adjust the `budget` value for inflation, so that it doesn't distort our analysis when we want to, say, study correlation between our features."
      ],
      "metadata": {
        "id": "VdLTj782JpfR"
      }
    },
    {
      "cell_type": "code",
      "source": [
        "!pip install cpi"
      ],
      "metadata": {
        "colab": {
          "base_uri": "https://localhost:8080/"
        },
        "id": "js4qLjW1e-HJ",
        "outputId": "c0079d6c-f9cc-4c32-a3b3-9ec6e5495bc9"
      },
      "execution_count": 48,
      "outputs": [
        {
          "output_type": "stream",
          "name": "stdout",
          "text": [
            "Looking in indexes: https://pypi.org/simple, https://us-python.pkg.dev/colab-wheels/public/simple/\n",
            "Collecting cpi\n",
            "  Downloading cpi-1.0.10-py2.py3-none-any.whl (29.5 MB)\n",
            "\u001b[K     |████████████████████████████████| 29.5 MB 1.5 MB/s \n",
            "\u001b[?25hRequirement already satisfied: python-dateutil in /usr/local/lib/python3.7/dist-packages (from cpi) (2.8.2)\n",
            "Requirement already satisfied: pandas in /usr/local/lib/python3.7/dist-packages (from cpi) (1.3.5)\n",
            "Requirement already satisfied: click in /usr/local/lib/python3.7/dist-packages (from cpi) (7.1.2)\n",
            "Requirement already satisfied: requests in /usr/local/lib/python3.7/dist-packages (from cpi) (2.23.0)\n",
            "Requirement already satisfied: pytz>=2017.3 in /usr/local/lib/python3.7/dist-packages (from pandas->cpi) (2022.2.1)\n",
            "Requirement already satisfied: numpy>=1.17.3 in /usr/local/lib/python3.7/dist-packages (from pandas->cpi) (1.21.6)\n",
            "Requirement already satisfied: six>=1.5 in /usr/local/lib/python3.7/dist-packages (from python-dateutil->cpi) (1.15.0)\n",
            "Requirement already satisfied: urllib3!=1.25.0,!=1.25.1,<1.26,>=1.21.1 in /usr/local/lib/python3.7/dist-packages (from requests->cpi) (1.24.3)\n",
            "Requirement already satisfied: certifi>=2017.4.17 in /usr/local/lib/python3.7/dist-packages (from requests->cpi) (2022.6.15)\n",
            "Requirement already satisfied: idna<3,>=2.5 in /usr/local/lib/python3.7/dist-packages (from requests->cpi) (2.10)\n",
            "Requirement already satisfied: chardet<4,>=3.0.2 in /usr/local/lib/python3.7/dist-packages (from requests->cpi) (3.0.4)\n",
            "Installing collected packages: cpi\n",
            "Successfully installed cpi-1.0.10\n"
          ]
        }
      ]
    },
    {
      "cell_type": "code",
      "source": [
        "import cpi # Library to help us adjust for inflation"
      ],
      "metadata": {
        "id": "FQrY89LAe-8w"
      },
      "execution_count": 49,
      "outputs": []
    },
    {
      "cell_type": "code",
      "source": [
        "adjust_for_inflation = np.vectorize(cpi.inflate) # vectorize the function that can calculate inflation-adjusted value"
      ],
      "metadata": {
        "id": "sbHYQFM5fUHB"
      },
      "execution_count": 60,
      "outputs": []
    },
    {
      "cell_type": "code",
      "source": [
        "adjusted_budget = adjust_for_inflation(movies['budget'], movies['released'].dt.year)"
      ],
      "metadata": {
        "id": "HOyMTQRogHk_"
      },
      "execution_count": 69,
      "outputs": []
    },
    {
      "cell_type": "code",
      "source": [
        "movies['adjusted_budget'] = adjusted_budget\n",
        "movies.drop(columns = ['budget'], inplace=True)\n",
        "movies.columns"
      ],
      "metadata": {
        "colab": {
          "base_uri": "https://localhost:8080/"
        },
        "id": "NDJnz8-Lf6rJ",
        "outputId": "b6f625e4-5460-444d-806f-d3bb3781f85b"
      },
      "execution_count": 70,
      "outputs": [
        {
          "output_type": "execute_result",
          "data": {
            "text/plain": [
              "Index(['name', 'rating', 'genre', 'released', 'score', 'votes', 'director',\n",
              "       'writer', 'star', 'country', 'gross', 'company', 'runtime',\n",
              "       'adjusted_budget'],\n",
              "      dtype='object')"
            ]
          },
          "metadata": {},
          "execution_count": 70
        }
      ]
    },
    {
      "cell_type": "markdown",
      "source": [
        "Similary, let's do the same thing for the gross revenue."
      ],
      "metadata": {
        "id": "jAqijtDJhBns"
      }
    },
    {
      "cell_type": "code",
      "source": [
        "movies['adjusted_gross'] = adjust_for_inflation(movies['gross'], movies['released'].dt.year)\n",
        "movies.drop(columns=['gross'], inplace=True)\n",
        "movies.columns"
      ],
      "metadata": {
        "colab": {
          "base_uri": "https://localhost:8080/"
        },
        "id": "6jHrPvtAhH62",
        "outputId": "b8f8299c-54c1-41fc-bb0c-644af701fb5a"
      },
      "execution_count": 71,
      "outputs": [
        {
          "output_type": "execute_result",
          "data": {
            "text/plain": [
              "Index(['name', 'rating', 'genre', 'released', 'score', 'votes', 'director',\n",
              "       'writer', 'star', 'country', 'company', 'runtime', 'adjusted_budget',\n",
              "       'adjusted_gross'],\n",
              "      dtype='object')"
            ]
          },
          "metadata": {},
          "execution_count": 71
        }
      ]
    },
    {
      "cell_type": "markdown",
      "source": [
        "## Exploratory Data Analysis"
      ],
      "metadata": {
        "id": "XIWcgmMthRXe"
      }
    },
    {
      "cell_type": "code",
      "source": [
        "movies.corr() # looking at correlation of the numeric attributes"
      ],
      "metadata": {
        "colab": {
          "base_uri": "https://localhost:8080/",
          "height": 206
        },
        "id": "3zCufCmLhhN3",
        "outputId": "0485d9bd-6def-46eb-eb01-c4978c7182ed"
      },
      "execution_count": 73,
      "outputs": [
        {
          "output_type": "execute_result",
          "data": {
            "text/plain": [
              "                    score     votes   runtime  adjusted_budget  adjusted_gross\n",
              "score            1.000000  0.414176  0.401670         0.036631        0.202806\n",
              "votes            0.414176  1.000000  0.309317         0.419754        0.650290\n",
              "runtime          0.401670  0.309317  1.000000         0.273930        0.248405\n",
              "adjusted_budget  0.036631  0.419754  0.273930         1.000000        0.669845\n",
              "adjusted_gross   0.202806  0.650290  0.248405         0.669845        1.000000"
            ],
            "text/html": [
              "\n",
              "  <div id=\"df-2149ff71-e688-4bdc-b0a7-6d7b54bfd973\">\n",
              "    <div class=\"colab-df-container\">\n",
              "      <div>\n",
              "<style scoped>\n",
              "    .dataframe tbody tr th:only-of-type {\n",
              "        vertical-align: middle;\n",
              "    }\n",
              "\n",
              "    .dataframe tbody tr th {\n",
              "        vertical-align: top;\n",
              "    }\n",
              "\n",
              "    .dataframe thead th {\n",
              "        text-align: right;\n",
              "    }\n",
              "</style>\n",
              "<table border=\"1\" class=\"dataframe\">\n",
              "  <thead>\n",
              "    <tr style=\"text-align: right;\">\n",
              "      <th></th>\n",
              "      <th>score</th>\n",
              "      <th>votes</th>\n",
              "      <th>runtime</th>\n",
              "      <th>adjusted_budget</th>\n",
              "      <th>adjusted_gross</th>\n",
              "    </tr>\n",
              "  </thead>\n",
              "  <tbody>\n",
              "    <tr>\n",
              "      <th>score</th>\n",
              "      <td>1.000000</td>\n",
              "      <td>0.414176</td>\n",
              "      <td>0.401670</td>\n",
              "      <td>0.036631</td>\n",
              "      <td>0.202806</td>\n",
              "    </tr>\n",
              "    <tr>\n",
              "      <th>votes</th>\n",
              "      <td>0.414176</td>\n",
              "      <td>1.000000</td>\n",
              "      <td>0.309317</td>\n",
              "      <td>0.419754</td>\n",
              "      <td>0.650290</td>\n",
              "    </tr>\n",
              "    <tr>\n",
              "      <th>runtime</th>\n",
              "      <td>0.401670</td>\n",
              "      <td>0.309317</td>\n",
              "      <td>1.000000</td>\n",
              "      <td>0.273930</td>\n",
              "      <td>0.248405</td>\n",
              "    </tr>\n",
              "    <tr>\n",
              "      <th>adjusted_budget</th>\n",
              "      <td>0.036631</td>\n",
              "      <td>0.419754</td>\n",
              "      <td>0.273930</td>\n",
              "      <td>1.000000</td>\n",
              "      <td>0.669845</td>\n",
              "    </tr>\n",
              "    <tr>\n",
              "      <th>adjusted_gross</th>\n",
              "      <td>0.202806</td>\n",
              "      <td>0.650290</td>\n",
              "      <td>0.248405</td>\n",
              "      <td>0.669845</td>\n",
              "      <td>1.000000</td>\n",
              "    </tr>\n",
              "  </tbody>\n",
              "</table>\n",
              "</div>\n",
              "      <button class=\"colab-df-convert\" onclick=\"convertToInteractive('df-2149ff71-e688-4bdc-b0a7-6d7b54bfd973')\"\n",
              "              title=\"Convert this dataframe to an interactive table.\"\n",
              "              style=\"display:none;\">\n",
              "        \n",
              "  <svg xmlns=\"http://www.w3.org/2000/svg\" height=\"24px\"viewBox=\"0 0 24 24\"\n",
              "       width=\"24px\">\n",
              "    <path d=\"M0 0h24v24H0V0z\" fill=\"none\"/>\n",
              "    <path d=\"M18.56 5.44l.94 2.06.94-2.06 2.06-.94-2.06-.94-.94-2.06-.94 2.06-2.06.94zm-11 1L8.5 8.5l.94-2.06 2.06-.94-2.06-.94L8.5 2.5l-.94 2.06-2.06.94zm10 10l.94 2.06.94-2.06 2.06-.94-2.06-.94-.94-2.06-.94 2.06-2.06.94z\"/><path d=\"M17.41 7.96l-1.37-1.37c-.4-.4-.92-.59-1.43-.59-.52 0-1.04.2-1.43.59L10.3 9.45l-7.72 7.72c-.78.78-.78 2.05 0 2.83L4 21.41c.39.39.9.59 1.41.59.51 0 1.02-.2 1.41-.59l7.78-7.78 2.81-2.81c.8-.78.8-2.07 0-2.86zM5.41 20L4 18.59l7.72-7.72 1.47 1.35L5.41 20z\"/>\n",
              "  </svg>\n",
              "      </button>\n",
              "      \n",
              "  <style>\n",
              "    .colab-df-container {\n",
              "      display:flex;\n",
              "      flex-wrap:wrap;\n",
              "      gap: 12px;\n",
              "    }\n",
              "\n",
              "    .colab-df-convert {\n",
              "      background-color: #E8F0FE;\n",
              "      border: none;\n",
              "      border-radius: 50%;\n",
              "      cursor: pointer;\n",
              "      display: none;\n",
              "      fill: #1967D2;\n",
              "      height: 32px;\n",
              "      padding: 0 0 0 0;\n",
              "      width: 32px;\n",
              "    }\n",
              "\n",
              "    .colab-df-convert:hover {\n",
              "      background-color: #E2EBFA;\n",
              "      box-shadow: 0px 1px 2px rgba(60, 64, 67, 0.3), 0px 1px 3px 1px rgba(60, 64, 67, 0.15);\n",
              "      fill: #174EA6;\n",
              "    }\n",
              "\n",
              "    [theme=dark] .colab-df-convert {\n",
              "      background-color: #3B4455;\n",
              "      fill: #D2E3FC;\n",
              "    }\n",
              "\n",
              "    [theme=dark] .colab-df-convert:hover {\n",
              "      background-color: #434B5C;\n",
              "      box-shadow: 0px 1px 3px 1px rgba(0, 0, 0, 0.15);\n",
              "      filter: drop-shadow(0px 1px 2px rgba(0, 0, 0, 0.3));\n",
              "      fill: #FFFFFF;\n",
              "    }\n",
              "  </style>\n",
              "\n",
              "      <script>\n",
              "        const buttonEl =\n",
              "          document.querySelector('#df-2149ff71-e688-4bdc-b0a7-6d7b54bfd973 button.colab-df-convert');\n",
              "        buttonEl.style.display =\n",
              "          google.colab.kernel.accessAllowed ? 'block' : 'none';\n",
              "\n",
              "        async function convertToInteractive(key) {\n",
              "          const element = document.querySelector('#df-2149ff71-e688-4bdc-b0a7-6d7b54bfd973');\n",
              "          const dataTable =\n",
              "            await google.colab.kernel.invokeFunction('convertToInteractive',\n",
              "                                                     [key], {});\n",
              "          if (!dataTable) return;\n",
              "\n",
              "          const docLinkHtml = 'Like what you see? Visit the ' +\n",
              "            '<a target=\"_blank\" href=https://colab.research.google.com/notebooks/data_table.ipynb>data table notebook</a>'\n",
              "            + ' to learn more about interactive tables.';\n",
              "          element.innerHTML = '';\n",
              "          dataTable['output_type'] = 'display_data';\n",
              "          await google.colab.output.renderOutput(dataTable, element);\n",
              "          const docLink = document.createElement('div');\n",
              "          docLink.innerHTML = docLinkHtml;\n",
              "          element.appendChild(docLink);\n",
              "        }\n",
              "      </script>\n",
              "    </div>\n",
              "  </div>\n",
              "  "
            ]
          },
          "metadata": {},
          "execution_count": 73
        }
      ]
    },
    {
      "cell_type": "markdown",
      "source": [
        "Surprisingly, `adjusted_budget` does not correlate with `score` much at all. `votes`, `runtime`, and `adjusted_gross` all have decent correlation with `score`."
      ],
      "metadata": {
        "id": "I4Klwn_fiI-h"
      }
    },
    {
      "cell_type": "code",
      "source": [
        "sns.heatmap(movies.corr(), annot=True)"
      ],
      "metadata": {
        "colab": {
          "base_uri": "https://localhost:8080/",
          "height": 505
        },
        "id": "WtxRkrM7iwQT",
        "outputId": "2bcff2f7-613a-4156-c679-79ce5301f0ba"
      },
      "execution_count": 75,
      "outputs": [
        {
          "output_type": "execute_result",
          "data": {
            "text/plain": [
              "<matplotlib.axes._subplots.AxesSubplot at 0x7f170b72df50>"
            ]
          },
          "metadata": {},
          "execution_count": 75
        },
        {
          "output_type": "display_data",
          "data": {
            "text/plain": [
              "<Figure size 864x576 with 2 Axes>"
            ],
            "image/png": "[encoded data removed]"
          },
          "metadata": {
            "needs_background": "light"
          }
        }
      ]
    },
    {
      "cell_type": "markdown",
      "source": [
        "The strongest correlation happens between `adjusted_gross` and `adjusted_budget`, and `adjusted_gross` and `votes`."
      ],
      "metadata": {
        "id": "wBRm28awi0_d"
      }
    },
    {
      "cell_type": "code",
      "source": [
        "sns.scatterplot(x='adjusted_budget', y='adjusted_gross', data=movies);"
      ],
      "metadata": {
        "colab": {
          "base_uri": "https://localhost:8080/",
          "height": 511
        },
        "id": "kwSEvklMjO4u",
        "outputId": "772073bc-2945-4c78-a2f2-cf47e8a19b94"
      },
      "execution_count": 83,
      "outputs": [
        {
          "output_type": "display_data",
          "data": {
            "text/plain": [
              "<Figure size 864x576 with 1 Axes>"
            ],
            "image/png": "[encoded data removed]"
          },
          "metadata": {
            "needs_background": "light"
          }
        }
      ]
    },
    {
      "cell_type": "code",
      "source": [
        "sns.scatterplot(x='votes', y='adjusted_gross', data=movies);"
      ],
      "metadata": {
        "colab": {
          "base_uri": "https://localhost:8080/",
          "height": 511
        },
        "id": "9MsL1tQwjdPC",
        "outputId": "cf08b618-661d-4c93-83ee-d597fe61042e"
      },
      "execution_count": 84,
      "outputs": [
        {
          "output_type": "display_data",
          "data": {
            "text/plain": [
              "<Figure size 864x576 with 1 Axes>"
            ],
            "image/png": "[encoded data removed]"
          },
          "metadata": {
            "needs_background": "light"
          }
        }
      ]
    },
    {
      "cell_type": "markdown",
      "source": [
        "Next, let's examine the relationship between the categorical features and the numeric features."
      ],
      "metadata": {
        "id": "Af1TeEJMkZYL"
      }
    },
    {
      "cell_type": "code",
      "source": [
        "# Plot top 10 countries with the highest mean score\n",
        "sns.barplot(x=movies.groupby(by='country').mean()['score'].sort_values(ascending=False)[:10],\n",
        "            y=movies.groupby(by='country').mean()['score'].sort_values(ascending=False).index[:10],\n",
        "            orient='h')"
      ],
      "metadata": {
        "colab": {
          "base_uri": "https://localhost:8080/",
          "height": 517
        },
        "id": "yh3yW1K6mWHq",
        "outputId": "b0831281-15b4-4670-bc12-5e3b7bed844c"
      },
      "execution_count": 97,
      "outputs": [
        {
          "output_type": "execute_result",
          "data": {
            "text/plain": [
              "<matplotlib.axes._subplots.AxesSubplot at 0x7f16eba81350>"
            ]
          },
          "metadata": {},
          "execution_count": 97
        },
        {
          "output_type": "display_data",
          "data": {
            "text/plain": [
              "<Figure size 864x576 with 1 Axes>"
            ],
            "image/png": "[encoded data removed]"
          },
          "metadata": {
            "needs_background": "light"
          }
        }
      ]
    },
    {
      "cell_type": "markdown",
      "source": [
        "We can also look at companies who make the most money and get the highest scores for the movies."
      ],
      "metadata": {
        "id": "dyD8IXb4m-mA"
      }
    },
    {
      "cell_type": "code",
      "source": [
        "movies.groupby(by='company').mean()['score']"
      ],
      "metadata": {
        "colab": {
          "base_uri": "https://localhost:8080/"
        },
        "id": "ySs26H-fni9f",
        "outputId": "8fb72e25-5d4a-47b3-be49-40dad41ac09f"
      },
      "execution_count": 98,
      "outputs": [
        {
          "output_type": "execute_result",
          "data": {
            "text/plain": [
              "company\n",
              "\"DIA\" Productions GmbH & Co. KG        6.1\n",
              "\"Weathering With You\" Film Partners    7.5\n",
              ".406 Production                        6.8\n",
              "1+2 Seisaku Iinkai                     8.2\n",
              "10 West Studios                        6.4\n",
              "                                      ... \n",
              "i am OTHER                             7.2\n",
              "i5 Films                               6.6\n",
              "iDeal Partners Film Fund               7.5\n",
              "micro_scope                            8.3\n",
              "thefyzz                                5.7\n",
              "Name: score, Length: 2315, dtype: float64"
            ]
          },
          "metadata": {},
          "execution_count": 98
        }
      ]
    },
    {
      "cell_type": "code",
      "source": [
        "# Plotting top 10 companies with the highest scores\n",
        "\n",
        "sns.barplot(x=movies.groupby(by='company').mean()['score'].sort_values(ascending=False)[:10], \n",
        "            y=movies.groupby(by='company').mean()['score'].sort_values(ascending=False).index[:10], \n",
        "            orient='h');"
      ],
      "metadata": {
        "colab": {
          "base_uri": "https://localhost:8080/",
          "height": 500
        },
        "id": "dseDAzELnn4K",
        "outputId": "c9e3bb14-3e7a-411d-bf42-40e130c24a0f"
      },
      "execution_count": 102,
      "outputs": [
        {
          "output_type": "display_data",
          "data": {
            "text/plain": [
              "<Figure size 864x576 with 1 Axes>"
            ],
            "image/png": "[encoded data removed]"
          },
          "metadata": {
            "needs_background": "light"
          }
        }
      ]
    },
    {
      "cell_type": "code",
      "source": [
        "# Plotting companies with the highest gross revenue\n",
        "\n",
        "sns.barplot(x=movies.groupby(by='company').mean()['adjusted_gross'].sort_values(ascending=False)[:10], \n",
        "            y=movies.groupby(by='company').mean()['adjusted_gross'].sort_values(ascending=False).index[:10], \n",
        "            orient='h');"
      ],
      "metadata": {
        "colab": {
          "base_uri": "https://localhost:8080/",
          "height": 500
        },
        "id": "N8hFvXH1nzBf",
        "outputId": "87593cdc-a351-49cc-ce64-8aaeb0700b87"
      },
      "execution_count": 103,
      "outputs": [
        {
          "output_type": "display_data",
          "data": {
            "text/plain": [
              "<Figure size 864x576 with 1 Axes>"
            ],
            "image/png": "[encoded data removed]"
          },
          "metadata": {
            "needs_background": "light"
          }
        }
      ]
    },
    {
      "cell_type": "code",
      "source": [
        "# Are the above top 10 companies with the highest gross also the ones with the highest budget?\n",
        "\n",
        "sns.barplot(x=movies.groupby(by='company').mean()['adjusted_budget'].sort_values(ascending=False)[:10], \n",
        "            y=movies.groupby(by='company').mean()['adjusted_budget'].sort_values(ascending=False).index[:10], \n",
        "            orient='h');"
      ],
      "metadata": {
        "colab": {
          "base_uri": "https://localhost:8080/",
          "height": 500
        },
        "id": "TIXaTU7JodtK",
        "outputId": "bb744180-da82-4195-b26b-899c891784d9"
      },
      "execution_count": 104,
      "outputs": [
        {
          "output_type": "display_data",
          "data": {
            "text/plain": [
              "<Figure size 864x576 with 1 Axes>"
            ],
            "image/png": "[encoded data removed]"
          },
          "metadata": {
            "needs_background": "light"
          }
        }
      ]
    },
    {
      "cell_type": "markdown",
      "source": [
        "Next, let's see which genres do the best."
      ],
      "metadata": {
        "id": "qS1E0ihuomeq"
      }
    },
    {
      "cell_type": "code",
      "source": [
        "# Plotting top 10 genres with the highest mean score.\n",
        "\n",
        "sns.barplot(x=movies.groupby(by='genre').mean()['score'].sort_values(ascending=False)[:10], \n",
        "            y=movies.groupby(by='genre').mean()['score'].sort_values(ascending=False).index[:10], \n",
        "            orient='h');"
      ],
      "metadata": {
        "colab": {
          "base_uri": "https://localhost:8080/",
          "height": 500
        },
        "id": "d_vQVVYdo6YV",
        "outputId": "3c4aead7-8ab6-4ad0-fb63-b16ddfd494ee"
      },
      "execution_count": 105,
      "outputs": [
        {
          "output_type": "display_data",
          "data": {
            "text/plain": [
              "<Figure size 864x576 with 1 Axes>"
            ],
            "image/png": "[encoded data removed]"
          },
          "metadata": {
            "needs_background": "light"
          }
        }
      ]
    },
    {
      "cell_type": "markdown",
      "source": [
        "Let's also take a look at which ratings do the best."
      ],
      "metadata": {
        "id": "8SnMsvnCpAvi"
      }
    },
    {
      "cell_type": "code",
      "source": [
        "sns.barplot(x=movies.groupby(by='rating').mean()['score'].sort_values(ascending=False), \n",
        "            y=movies.groupby(by='rating').mean()['score'].sort_values(ascending=False).index, \n",
        "            orient='h');"
      ],
      "metadata": {
        "colab": {
          "base_uri": "https://localhost:8080/",
          "height": 500
        },
        "id": "pVMenvRNpSnS",
        "outputId": "604029a8-5e53-4554-87ca-cb20a11e0574"
      },
      "execution_count": 106,
      "outputs": [
        {
          "output_type": "display_data",
          "data": {
            "text/plain": [
              "<Figure size 864x576 with 1 Axes>"
            ],
            "image/png": "[encoded data removed]"
          },
          "metadata": {
            "needs_background": "light"
          }
        }
      ]
    },
    {
      "cell_type": "markdown",
      "source": [
        "That concludes our exploration into the movies dataset. We will build a dashboard in Tableau to visualize some of the findings and explore other relationships as well. Let's export our cleaned dataset to an excel file so we can use it in Tableau."
      ],
      "metadata": {
        "id": "nGxazWZGpXjD"
      }
    },
    {
      "cell_type": "code",
      "source": [
        "movies.to_excel('cleaned_movies.xlsx')"
      ],
      "metadata": {
        "id": "spio5HsVtONP"
      },
      "execution_count": 107,
      "outputs": []
    }
  ]
}